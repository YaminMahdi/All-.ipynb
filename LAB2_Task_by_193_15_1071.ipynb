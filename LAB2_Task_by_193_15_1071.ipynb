{
  "nbformat": 4,
  "nbformat_minor": 0,
  "metadata": {
    "colab": {
      "provenance": [],
      "authorship_tag": "ABX9TyM6nt7c4f0hMEZxeCUum3aZ",
      "include_colab_link": true
    },
    "kernelspec": {
      "name": "python3",
      "display_name": "Python 3"
    },
    "language_info": {
      "name": "python"
    }
  },
  "cells": [
    {
      "cell_type": "markdown",
      "metadata": {
        "id": "view-in-github",
        "colab_type": "text"
      },
      "source": [
        "<a href=\"https://colab.research.google.com/github/YaminMahdi/All-.ipynb/blob/master/LAB2_Task_by_193_15_1071.ipynb\" target=\"_parent\"><img src=\"https://colab.research.google.com/assets/colab-badge.svg\" alt=\"Open In Colab\"/></a>"
      ]
    },
    {
      "cell_type": "code",
      "source": [
        "!apt-get update\n",
        "!apt-get install openjdk-8-jdk-headless -qq > /dev/null\n",
        "!wget -q http://archive.apache.org/dist/spark/spark-3.1.1/spark-3.1.1-bin-hadoop3.2.tgz\n",
        "!tar xf spark-3.1.1-bin-hadoop3.2.tgz\n",
        "!pip install -q findspark"
      ],
      "metadata": {
        "id": "RM9Il349Ksyt",
        "colab": {
          "base_uri": "https://localhost:8080/"
        },
        "outputId": "e37561f6-1cd0-48bd-d65b-bc11b3acf513"
      },
      "execution_count": 1,
      "outputs": [
        {
          "output_type": "stream",
          "name": "stdout",
          "text": [
            "\r0% [Working]\r            \rGet:1 https://cloud.r-project.org/bin/linux/ubuntu bionic-cran40/ InRelease [3,626 B]\n",
            "\r0% [Waiting for headers] [Connecting to security.ubuntu.com] [1 InRelease 0 B/3\r0% [Waiting for headers] [Connecting to security.ubuntu.com] [Waiting for heade\r                                                                               \rIgn:2 https://developer.download.nvidia.com/compute/machine-learning/repos/ubuntu1804/x86_64  InRelease\n",
            "\r                                                                               \rHit:3 https://developer.download.nvidia.com/compute/cuda/repos/ubuntu1804/x86_64  InRelease\n",
            "Hit:4 https://developer.download.nvidia.com/compute/machine-learning/repos/ubuntu1804/x86_64  Release\n",
            "Hit:5 http://archive.ubuntu.com/ubuntu bionic InRelease\n",
            "Get:6 http://archive.ubuntu.com/ubuntu bionic-updates InRelease [88.7 kB]\n",
            "Get:7 http://security.ubuntu.com/ubuntu bionic-security InRelease [88.7 kB]\n",
            "Get:8 http://ppa.launchpad.net/c2d4u.team/c2d4u4.0+/ubuntu bionic InRelease [15.9 kB]\n",
            "Get:9 https://cloud.r-project.org/bin/linux/ubuntu bionic-cran40/ Packages [91.7 kB]\n",
            "Get:10 http://archive.ubuntu.com/ubuntu bionic-backports InRelease [74.6 kB]\n",
            "Hit:12 http://ppa.launchpad.net/cran/libgit2/ubuntu bionic InRelease\n",
            "Get:13 http://ppa.launchpad.net/deadsnakes/ppa/ubuntu bionic InRelease [15.9 kB]\n",
            "Get:14 http://archive.ubuntu.com/ubuntu bionic-updates/main amd64 Packages [3,396 kB]\n",
            "Get:15 http://security.ubuntu.com/ubuntu bionic-security/restricted amd64 Packages [1,131 kB]\n",
            "Hit:16 http://ppa.launchpad.net/graphics-drivers/ppa/ubuntu bionic InRelease\n",
            "Get:17 http://archive.ubuntu.com/ubuntu bionic-updates/restricted amd64 Packages [1,172 kB]\n",
            "Get:18 http://security.ubuntu.com/ubuntu bionic-security/main amd64 Packages [2,965 kB]\n",
            "Get:19 http://ppa.launchpad.net/c2d4u.team/c2d4u4.0+/ubuntu bionic/main Sources [2,099 kB]\n",
            "Get:20 http://security.ubuntu.com/ubuntu bionic-security/universe amd64 Packages [1,540 kB]\n",
            "Get:21 http://ppa.launchpad.net/c2d4u.team/c2d4u4.0+/ubuntu bionic/main amd64 Packages [1,076 kB]\n",
            "Get:22 http://ppa.launchpad.net/deadsnakes/ppa/ubuntu bionic/main amd64 Packages [45.2 kB]\n",
            "Fetched 13.8 MB in 4s (3,091 kB/s)\n",
            "Reading package lists... Done\n"
          ]
        }
      ]
    },
    {
      "cell_type": "code",
      "source": [
        "import os\n",
        "os.environ[\"JAVA_HOME\"] = \"/usr/lib/jvm/java-8-openjdk-amd64\"\n",
        "os.environ[\"SPARK_HOME\"] = \"/content/spark-3.1.1-bin-hadoop3.2\""
      ],
      "metadata": {
        "id": "kaNLnsZmK6e0"
      },
      "execution_count": 2,
      "outputs": []
    },
    {
      "cell_type": "code",
      "source": [
        "import findspark\n",
        "findspark.init()\n",
        "from pyspark.sql import SparkSession\n",
        "spark = SparkSession.builder.master(\"local\").appName(\"Spark\").getOrCreate()\n",
        "spark"
      ],
      "metadata": {
        "colab": {
          "base_uri": "https://localhost:8080/",
          "height": 219
        },
        "id": "YtJtZqN1K9k9",
        "outputId": "22644c29-495d-42fb-8e73-98827194458d"
      },
      "execution_count": 3,
      "outputs": [
        {
          "output_type": "execute_result",
          "data": {
            "text/plain": [
              "<pyspark.sql.session.SparkSession at 0x7fcc0a38afd0>"
            ],
            "text/html": [
              "\n",
              "            <div>\n",
              "                <p><b>SparkSession - in-memory</b></p>\n",
              "                \n",
              "        <div>\n",
              "            <p><b>SparkContext</b></p>\n",
              "\n",
              "            <p><a href=\"http://52110b78592a:4040\">Spark UI</a></p>\n",
              "\n",
              "            <dl>\n",
              "              <dt>Version</dt>\n",
              "                <dd><code>v3.1.1</code></dd>\n",
              "              <dt>Master</dt>\n",
              "                <dd><code>local</code></dd>\n",
              "              <dt>AppName</dt>\n",
              "                <dd><code>Spark</code></dd>\n",
              "            </dl>\n",
              "        </div>\n",
              "        \n",
              "            </div>\n",
              "        "
            ]
          },
          "metadata": {},
          "execution_count": 3
        }
      ]
    },
    {
      "cell_type": "code",
      "source": [
        "!wget https://raw.githubusercontent.com/YaminMahdi/All-.ipynb/master/results.csv\n",
        "!wget https://raw.githubusercontent.com/YaminMahdi/All-.ipynb/master/pokemon.csv\n",
        "!wget https://raw.githubusercontent.com/YaminMahdi/All-.ipynb/master/Literacy.csv\n"
      ],
      "metadata": {
        "id": "sEIEAfl88DW7"
      },
      "execution_count": null,
      "outputs": []
    },
    {
      "cell_type": "code",
      "source": [
        "d1 = spark.read.csv('results.csv', header=True, sep=\",\", inferSchema=True)\n",
        "d2 = spark.read.csv('pokemon.csv', header=True, sep=\",\", inferSchema=True)\n",
        "d3 = spark.read.csv('Literacy.csv', header=True, sep=\",\", inferSchema=True)\n",
        "\n",
        "d1.show(2)\n",
        "d2.show(2)\n",
        "d3.show(2)"
      ],
      "metadata": {
        "colab": {
          "base_uri": "https://localhost:8080/"
        },
        "id": "LcqQOgyp-tPl",
        "outputId": "fcd7c812-23dd-4ce5-e0be-b6124d3eb71a"
      },
      "execution_count": 5,
      "outputs": [
        {
          "output_type": "stream",
          "name": "stdout",
          "text": [
            "+----------+---------+---------+----------+----------+----------+-------+--------+-------+\n",
            "|      date|home_team|away_team|home_score|away_score|tournament|   city| country|neutral|\n",
            "+----------+---------+---------+----------+----------+----------+-------+--------+-------+\n",
            "|1872-11-30| Scotland|  England|         0|         0|  Friendly|Glasgow|Scotland|  false|\n",
            "|1873-03-08|  England| Scotland|         4|         2|  Friendly| London| England|  false|\n",
            "+----------+---------+---------+----------+----------+----------+-------+--------+-------+\n",
            "only showing top 2 rows\n",
            "\n",
            "+---+--------------+---------+-----------+------------------------+----------+----------------+------------+-----------+------------+-----------+------+------+--------+---------+----------------+---------+---------+--------------+------------+----+------+-------+---------+----------+-----+----------+---------------+---------------+-----------+---------------+----------+----------+---------------+----------+--------------+------------+-------------+----------------+-------------+-----------+-------------+--------------+--------------+--------------+---------------+-----------+------------+-------------+--------------+------------+-------------+-------------+\n",
            "|_c0|pokedex_number|     name|german_name|           japanese_name|generation|is_sub_legendary|is_legendary|is_mythical|     species|type_number|type_1|type_2|height_m|weight_kg|abilities_number|ability_1|ability_2|ability_hidden|total_points|  hp|attack|defense|sp_attack|sp_defense|speed|catch_rate|base_friendship|base_experience|growth_rate|egg_type_number|egg_type_1|egg_type_2|percentage_male|egg_cycles|against_normal|against_fire|against_water|against_electric|against_grass|against_ice|against_fight|against_poison|against_ground|against_flying|against_psychic|against_bug|against_rock|against_ghost|against_dragon|against_dark|against_steel|against_fairy|\n",
            "+---+--------------+---------+-----------+------------------------+----------+----------------+------------+-----------+------------+-----------+------+------+--------+---------+----------------+---------+---------+--------------+------------+----+------+-------+---------+----------+-----+----------+---------------+---------------+-----------+---------------+----------+----------+---------------+----------+--------------+------------+-------------+----------------+-------------+-----------+-------------+--------------+--------------+--------------+---------------+-----------+------------+-------------+--------------+------------+-------------+-------------+\n",
            "|  0|             1|Bulbasaur|    Bisasam|フシギダネ (Fushigidane)|         1|               0|           0|          0|Seed Pokémon|          2| Grass|Poison|     0.7|      6.9|               2| Overgrow|     null|   Chlorophyll|       318.0|45.0|  49.0|   49.0|     65.0|      65.0| 45.0|      45.0|           70.0|           64.0|Medium Slow|              2|     Grass|   Monster|           87.5|      20.0|           1.0|         2.0|          0.5|             0.5|         0.25|        2.0|          0.5|           1.0|           1.0|           2.0|            2.0|        1.0|         1.0|          1.0|           1.0|         1.0|          1.0|          0.5|\n",
            "|  1|             2|  Ivysaur|  Bisaknosp| フシギソウ (Fushigisou)|         1|               0|           0|          0|Seed Pokémon|          2| Grass|Poison|     1.0|     13.0|               2| Overgrow|     null|   Chlorophyll|       405.0|60.0|  62.0|   63.0|     80.0|      80.0| 60.0|      45.0|           70.0|          142.0|Medium Slow|              2|     Grass|   Monster|           87.5|      20.0|           1.0|         2.0|          0.5|             0.5|         0.25|        2.0|          0.5|           1.0|           1.0|           2.0|            2.0|        1.0|         1.0|          1.0|           1.0|         1.0|          1.0|          0.5|\n",
            "+---+--------------+---------+-----------+------------------------+----------+----------------+------------+-----------+------------+-----------+------+------+--------+---------+----------------+---------+---------+--------------+------------+----+------+-------+---------+----------+-----+----------+---------------+---------------+-----------+---------------+----------+----------+---------------+----------+--------------+------------+-------------+----------------+-------------+-----------+-------------+--------------+--------------+--------------+---------------+-----------+------------+-------------+--------------+------------+-------------+-------------+\n",
            "only showing top 2 rows\n",
            "\n",
            "+---+--------------------+------------+--------+\n",
            "|_c0|            District|       State|Literacy|\n",
            "+---+--------------------+------------+--------+\n",
            "|  1|               Thane| Maharashtra|   84.53|\n",
            "|  2| North Twenty Fou...| West Bengal|   84.06|\n",
            "+---+--------------------+------------+--------+\n",
            "only showing top 2 rows\n",
            "\n"
          ]
        }
      ]
    },
    {
      "cell_type": "markdown",
      "source": [
        "## Calculate Age Function"
      ],
      "metadata": {
        "id": "uZO5a9kG_rpJ"
      }
    },
    {
      "cell_type": "code",
      "execution_count": 10,
      "metadata": {
        "id": "HIi4kcsEJqVD"
      },
      "outputs": [],
      "source": [
        "from pyspark.sql.functions import lit, to_date, current_date, datediff\n",
        "\n",
        "def cal_age(date):\n",
        "  age = datediff(current_date(), to_date(date)) \n",
        "  return age/365"
      ]
    },
    {
      "cell_type": "code",
      "source": [
        "d1.select(d1.date, cal_age(d1.date).alias(\"age (years)\")).show(5)"
      ],
      "metadata": {
        "colab": {
          "base_uri": "https://localhost:8080/"
        },
        "id": "ZF-lsRq09lNR",
        "outputId": "95938638-7b80-427b-909a-4aaaf7092e24"
      },
      "execution_count": 7,
      "outputs": [
        {
          "output_type": "stream",
          "name": "stdout",
          "text": [
            "+----------+------------------+\n",
            "|      date|       age (years)|\n",
            "+----------+------------------+\n",
            "|1872-11-30|149.87123287671233|\n",
            "|1873-03-08| 149.6027397260274|\n",
            "|1874-03-07| 148.6054794520548|\n",
            "|1875-03-06|147.60821917808218|\n",
            "|1876-03-04| 146.6109589041096|\n",
            "+----------+------------------+\n",
            "only showing top 5 rows\n",
            "\n"
          ]
        }
      ]
    },
    {
      "cell_type": "markdown",
      "source": [
        "## DataSet Join"
      ],
      "metadata": {
        "id": "d4NIdBkyAPS9"
      }
    },
    {
      "cell_type": "code",
      "source": [
        "print(\"cross join\")\n",
        "d3.join(d2, d3._c0 == d2._c0, \"cross\").select(d2[\"_c0\"],d3[\"State\"],d2[\"species\"]).show(3)\n",
        "\n",
        "print(\"outer join\")\n",
        "d3.join(d2, d3._c0 == d2._c0, \"outer\").select(d2[\"_c0\"],d3[\"State\"],d2[\"japanese_name\"]).show(3)\n",
        "\n",
        "print(\"full join\")\n",
        "d3.join(d2, d3._c0 == d2._c0, \"full\").select(d2[\"_c0\"],d3[\"District\"],d2[\"german_name\"]).show(3)\n",
        "\n",
        "print(\"left join\")\n",
        "d3.join(d2, d3._c0 == d2._c0, \"left\").select(d2[\"_c0\"],d3[\"Literacy\"],d2[\"ability_hidden\"]).show(3)\n",
        "\n",
        "print(\"right join\")\n",
        "d3.join(d2, d3._c0 == d2._c0, \"right\").select(d2[\"_c0\"],d3[\"Literacy\"],d2[\"defense\"]).show(3)\n",
        "\n",
        "\n",
        "# cross, outer, full, fullouter, full_outer, left, leftouter, left_outer, right, rightouter, right_outer, semi, leftsemi, left_semi, anti, leftanti and left_anti."
      ],
      "metadata": {
        "colab": {
          "base_uri": "https://localhost:8080/"
        },
        "id": "woedr1I9_et-",
        "outputId": "fda614a4-f203-44e8-b021-c63948db3bf4"
      },
      "execution_count": 8,
      "outputs": [
        {
          "output_type": "stream",
          "name": "stdout",
          "text": [
            "cross join\n",
            "+---+------------+------------+\n",
            "|_c0|       State|     species|\n",
            "+---+------------+------------+\n",
            "|  1| Maharashtra|Seed Pokémon|\n",
            "|  2| West Bengal|Seed Pokémon|\n",
            "|  3|   Karnataka|Seed Pokémon|\n",
            "+---+------------+------------+\n",
            "only showing top 3 rows\n",
            "\n",
            "outer join\n",
            "+---+------------------+----------------------+\n",
            "|_c0|             State|         japanese_name|\n",
            "+---+------------------+----------------------+\n",
            "|148|     Uttar Pradesh|     ガルーラ (Garura)|\n",
            "|463|           Haryana|   デオキシス (Deoxys)|\n",
            "|471| Jammu and Kashmir|ポッタイシ (Pottaishi)|\n",
            "+---+------------------+----------------------+\n",
            "only showing top 3 rows\n",
            "\n",
            "full join\n",
            "+---+-------------+-----------+\n",
            "|_c0|     District|german_name|\n",
            "+---+-------------+-----------+\n",
            "|148|  Maharajganj|    Kangama|\n",
            "|463| Mahendragarh|     Deoxys|\n",
            "|471|      Kupwara|    Pliprin|\n",
            "+---+-------------+-----------+\n",
            "only showing top 3 rows\n",
            "\n",
            "left join\n",
            "+---+--------+--------------+\n",
            "|_c0|Literacy|ability_hidden|\n",
            "+---+--------+--------------+\n",
            "|  1|   84.53|   Chlorophyll|\n",
            "|  2|   84.06|   Chlorophyll|\n",
            "|  3|   87.67|          null|\n",
            "+---+--------+--------------+\n",
            "only showing top 3 rows\n",
            "\n",
            "right join\n",
            "+---+--------+-------+\n",
            "|_c0|Literacy|defense|\n",
            "+---+--------+-------+\n",
            "|  0|    null|   49.0|\n",
            "|  1|   84.53|   63.0|\n",
            "|  2|   84.06|   83.0|\n",
            "+---+--------+-------+\n",
            "only showing top 3 rows\n",
            "\n"
          ]
        }
      ]
    },
    {
      "cell_type": "code",
      "source": [
        "watch_name =spark.createDataFrame([[1, \"A\",\" Rolex\",1899,1944],[2, \"f\",\" Rolex\",2899,1924],[3, \"g\",\" Rolex\",1599,1990],[4, \"z\",\" Rolex\",7899,2001],[5, \"h\",\" Rolex\",799,1844],[6, \"r\",\" Rolex\",1899,1944],[7, \"u\",\" Rolex\",2899,1924],[8, \"i\",\" Rolex\",1599,1990],[9, \"o\",\" Rolex\",7899,2001],[10, \"p\",\" Rolex\",799,1844]], [\"id\", \"name\",\"brand\",\"price\",\"established\"])\n",
        "watch_pop =spark.createDataFrame([[1, \"95%\"],[2, \"75%\"],[3, \"80%\"],[4, \"90%\",],[5, \"90%\",],[6, \"65%\"],[7, \"75%\"],[8, \"85%\"],[9, \"94%\",],[10, \"50%\",]], [\"id\", \"Popularity\"])\n",
        "watch_name.show()\n",
        "watch_pop.show()\n",
        "watch_name.join(watch_pop, watch_name.id == watch_pop.id, \"inner\").select(watch_name[\"id\"],watch_name[\"name\"],watch_pop[\"Popularity\"]).show()\n",
        "watch_name.join(watch_pop, watch_name.id == watch_pop.id, \"outer\").select(watch_name[\"id\"],watch_name[\"name\"],watch_pop[\"Popularity\"]).show()\n",
        "watch_name.join(watch_pop, watch_name.id == watch_pop.id, \"cross\").select(watch_name[\"id\"],watch_name[\"name\"],watch_pop[\"Popularity\"]).show()\n",
        "watch_name.join(watch_pop, watch_name.id == watch_pop.id, \"full_outer\").select(watch_name[\"id\"],watch_name[\"name\"],watch_pop[\"Popularity\"]).show()\n",
        "watch_name.join(watch_pop, watch_name.id == watch_pop.id, \"full\").select(watch_name[\"id\"],watch_name[\"name\"],watch_pop[\"Popularity\"]).show()"
      ],
      "metadata": {
        "colab": {
          "base_uri": "https://localhost:8080/"
        },
        "id": "U5IAu-MAHLm_",
        "outputId": "75ce2354-7449-4087-c9ce-dcd735d830de"
      },
      "execution_count": 9,
      "outputs": [
        {
          "output_type": "stream",
          "name": "stdout",
          "text": [
            "+---+----+------+-----+-----------+\n",
            "| id|name| brand|price|established|\n",
            "+---+----+------+-----+-----------+\n",
            "|  1|   A| Rolex| 1899|       1944|\n",
            "|  2|   f| Rolex| 2899|       1924|\n",
            "|  3|   g| Rolex| 1599|       1990|\n",
            "|  4|   z| Rolex| 7899|       2001|\n",
            "|  5|   h| Rolex|  799|       1844|\n",
            "|  6|   r| Rolex| 1899|       1944|\n",
            "|  7|   u| Rolex| 2899|       1924|\n",
            "|  8|   i| Rolex| 1599|       1990|\n",
            "|  9|   o| Rolex| 7899|       2001|\n",
            "| 10|   p| Rolex|  799|       1844|\n",
            "+---+----+------+-----+-----------+\n",
            "\n",
            "+---+----------+\n",
            "| id|Popularity|\n",
            "+---+----------+\n",
            "|  1|       95%|\n",
            "|  2|       75%|\n",
            "|  3|       80%|\n",
            "|  4|       90%|\n",
            "|  5|       90%|\n",
            "|  6|       65%|\n",
            "|  7|       75%|\n",
            "|  8|       85%|\n",
            "|  9|       94%|\n",
            "| 10|       50%|\n",
            "+---+----------+\n",
            "\n",
            "+---+----+----------+\n",
            "| id|name|Popularity|\n",
            "+---+----+----------+\n",
            "|  7|   u|       75%|\n",
            "|  6|   r|       65%|\n",
            "|  9|   o|       94%|\n",
            "|  5|   h|       90%|\n",
            "|  1|   A|       95%|\n",
            "| 10|   p|       50%|\n",
            "|  3|   g|       80%|\n",
            "|  8|   i|       85%|\n",
            "|  2|   f|       75%|\n",
            "|  4|   z|       90%|\n",
            "+---+----+----------+\n",
            "\n",
            "+---+----+----------+\n",
            "| id|name|Popularity|\n",
            "+---+----+----------+\n",
            "|  7|   u|       75%|\n",
            "|  6|   r|       65%|\n",
            "|  9|   o|       94%|\n",
            "|  5|   h|       90%|\n",
            "|  1|   A|       95%|\n",
            "| 10|   p|       50%|\n",
            "|  3|   g|       80%|\n",
            "|  8|   i|       85%|\n",
            "|  2|   f|       75%|\n",
            "|  4|   z|       90%|\n",
            "+---+----+----------+\n",
            "\n",
            "+---+----+----------+\n",
            "| id|name|Popularity|\n",
            "+---+----+----------+\n",
            "|  7|   u|       75%|\n",
            "|  6|   r|       65%|\n",
            "|  9|   o|       94%|\n",
            "|  5|   h|       90%|\n",
            "|  1|   A|       95%|\n",
            "| 10|   p|       50%|\n",
            "|  3|   g|       80%|\n",
            "|  8|   i|       85%|\n",
            "|  2|   f|       75%|\n",
            "|  4|   z|       90%|\n",
            "+---+----+----------+\n",
            "\n",
            "+---+----+----------+\n",
            "| id|name|Popularity|\n",
            "+---+----+----------+\n",
            "|  7|   u|       75%|\n",
            "|  6|   r|       65%|\n",
            "|  9|   o|       94%|\n",
            "|  5|   h|       90%|\n",
            "|  1|   A|       95%|\n",
            "| 10|   p|       50%|\n",
            "|  3|   g|       80%|\n",
            "|  8|   i|       85%|\n",
            "|  2|   f|       75%|\n",
            "|  4|   z|       90%|\n",
            "+---+----+----------+\n",
            "\n",
            "+---+----+----------+\n",
            "| id|name|Popularity|\n",
            "+---+----+----------+\n",
            "|  7|   u|       75%|\n",
            "|  6|   r|       65%|\n",
            "|  9|   o|       94%|\n",
            "|  5|   h|       90%|\n",
            "|  1|   A|       95%|\n",
            "| 10|   p|       50%|\n",
            "|  3|   g|       80%|\n",
            "|  8|   i|       85%|\n",
            "|  2|   f|       75%|\n",
            "|  4|   z|       90%|\n",
            "+---+----+----------+\n",
            "\n"
          ]
        }
      ]
    }
  ]
}