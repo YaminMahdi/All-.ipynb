{
  "nbformat": 4,
  "nbformat_minor": 0,
  "metadata": {
    "colab": {
      "provenance": [],
      "authorship_tag": "ABX9TyMiO0QlJc4Cq4K0pMRA45iG",
      "include_colab_link": true
    },
    "kernelspec": {
      "name": "python3",
      "display_name": "Python 3"
    },
    "language_info": {
      "name": "python"
    }
  },
  "cells": [
    {
      "cell_type": "markdown",
      "metadata": {
        "id": "view-in-github",
        "colab_type": "text"
      },
      "source": [
        "<a href=\"https://colab.research.google.com/github/YaminMahdi/All-.ipynb/blob/master/LAB2_Task_by_193_15_1071.ipynb\" target=\"_parent\"><img src=\"https://colab.research.google.com/assets/colab-badge.svg\" alt=\"Open In Colab\"/></a>"
      ]
    },
    {
      "cell_type": "code",
      "source": [
        "!apt-get update\n",
        "!apt-get install openjdk-8-jdk-headless -qq > /dev/null\n",
        "!wget -q http://archive.apache.org/dist/spark/spark-3.1.1/spark-3.1.1-bin-hadoop3.2.tgz\n",
        "!tar xf spark-3.1.1-bin-hadoop3.2.tgz\n",
        "!pip install -q findspark"
      ],
      "metadata": {
        "id": "RM9Il349Ksyt"
      },
      "execution_count": null,
      "outputs": []
    },
    {
      "cell_type": "code",
      "source": [
        "import os\n",
        "os.environ[\"JAVA_HOME\"] = \"/usr/lib/jvm/java-8-openjdk-amd64\"\n",
        "os.environ[\"SPARK_HOME\"] = \"/content/spark-3.1.1-bin-hadoop3.2\""
      ],
      "metadata": {
        "id": "kaNLnsZmK6e0"
      },
      "execution_count": null,
      "outputs": []
    },
    {
      "cell_type": "code",
      "source": [
        "import findspark\n",
        "findspark.init()\n",
        "from pyspark.sql import SparkSession\n",
        "spark = SparkSession.builder.master(\"local\").appName(\"Spark\").getOrCreate()\n",
        "spark"
      ],
      "metadata": {
        "colab": {
          "base_uri": "https://localhost:8080/",
          "height": 219
        },
        "id": "YtJtZqN1K9k9",
        "outputId": "22644c29-495d-42fb-8e73-98827194458d"
      },
      "execution_count": null,
      "outputs": [
        {
          "output_type": "execute_result",
          "data": {
            "text/plain": [
              "<pyspark.sql.session.SparkSession at 0x7fcc0a38afd0>"
            ],
            "text/html": [
              "\n",
              "            <div>\n",
              "                <p><b>SparkSession - in-memory</b></p>\n",
              "                \n",
              "        <div>\n",
              "            <p><b>SparkContext</b></p>\n",
              "\n",
              "            <p><a href=\"http://52110b78592a:4040\">Spark UI</a></p>\n",
              "\n",
              "            <dl>\n",
              "              <dt>Version</dt>\n",
              "                <dd><code>v3.1.1</code></dd>\n",
              "              <dt>Master</dt>\n",
              "                <dd><code>local</code></dd>\n",
              "              <dt>AppName</dt>\n",
              "                <dd><code>Spark</code></dd>\n",
              "            </dl>\n",
              "        </div>\n",
              "        \n",
              "            </div>\n",
              "        "
            ]
          },
          "metadata": {},
          "execution_count": 3
        }
      ]
    },
    {
      "cell_type": "code",
      "source": [
        "!wget https://raw.githubusercontent.com/YaminMahdi/All-.ipynb/master/results.csv\n",
        "!wget https://raw.githubusercontent.com/YaminMahdi/All-.ipynb/master/pokemon.csv\n",
        "!wget https://raw.githubusercontent.com/YaminMahdi/All-.ipynb/master/Literacy.csv\n"
      ],
      "metadata": {
        "id": "sEIEAfl88DW7"
      },
      "execution_count": null,
      "outputs": []
    },
    {
      "cell_type": "code",
      "source": [
        "d1 = spark.read.csv('results.csv', header=True, sep=\",\", inferSchema=True)\n",
        "d2 = spark.read.csv('pokemon.csv', header=True, sep=\",\", inferSchema=True)\n",
        "d3 = spark.read.csv('Literacy.csv', header=True, sep=\",\", inferSchema=True)\n",
        "\n",
        "d1.show(2)\n",
        "d2.show(2)\n",
        "d3.show(2)"
      ],
      "metadata": {
        "colab": {
          "base_uri": "https://localhost:8080/"
        },
        "id": "LcqQOgyp-tPl",
        "outputId": "fcd7c812-23dd-4ce5-e0be-b6124d3eb71a"
      },
      "execution_count": null,
      "outputs": [
        {
          "output_type": "stream",
          "name": "stdout",
          "text": [
            "+----------+---------+---------+----------+----------+----------+-------+--------+-------+\n",
            "|      date|home_team|away_team|home_score|away_score|tournament|   city| country|neutral|\n",
            "+----------+---------+---------+----------+----------+----------+-------+--------+-------+\n",
            "|1872-11-30| Scotland|  England|         0|         0|  Friendly|Glasgow|Scotland|  false|\n",
            "|1873-03-08|  England| Scotland|         4|         2|  Friendly| London| England|  false|\n",
            "+----------+---------+---------+----------+----------+----------+-------+--------+-------+\n",
            "only showing top 2 rows\n",
            "\n",
            "+---+--------------+---------+-----------+------------------------+----------+----------------+------------+-----------+------------+-----------+------+------+--------+---------+----------------+---------+---------+--------------+------------+----+------+-------+---------+----------+-----+----------+---------------+---------------+-----------+---------------+----------+----------+---------------+----------+--------------+------------+-------------+----------------+-------------+-----------+-------------+--------------+--------------+--------------+---------------+-----------+------------+-------------+--------------+------------+-------------+-------------+\n",
            "|_c0|pokedex_number|     name|german_name|           japanese_name|generation|is_sub_legendary|is_legendary|is_mythical|     species|type_number|type_1|type_2|height_m|weight_kg|abilities_number|ability_1|ability_2|ability_hidden|total_points|  hp|attack|defense|sp_attack|sp_defense|speed|catch_rate|base_friendship|base_experience|growth_rate|egg_type_number|egg_type_1|egg_type_2|percentage_male|egg_cycles|against_normal|against_fire|against_water|against_electric|against_grass|against_ice|against_fight|against_poison|against_ground|against_flying|against_psychic|against_bug|against_rock|against_ghost|against_dragon|against_dark|against_steel|against_fairy|\n",
            "+---+--------------+---------+-----------+------------------------+----------+----------------+------------+-----------+------------+-----------+------+------+--------+---------+----------------+---------+---------+--------------+------------+----+------+-------+---------+----------+-----+----------+---------------+---------------+-----------+---------------+----------+----------+---------------+----------+--------------+------------+-------------+----------------+-------------+-----------+-------------+--------------+--------------+--------------+---------------+-----------+------------+-------------+--------------+------------+-------------+-------------+\n",
            "|  0|             1|Bulbasaur|    Bisasam|フシギダネ (Fushigidane)|         1|               0|           0|          0|Seed Pokémon|          2| Grass|Poison|     0.7|      6.9|               2| Overgrow|     null|   Chlorophyll|       318.0|45.0|  49.0|   49.0|     65.0|      65.0| 45.0|      45.0|           70.0|           64.0|Medium Slow|              2|     Grass|   Monster|           87.5|      20.0|           1.0|         2.0|          0.5|             0.5|         0.25|        2.0|          0.5|           1.0|           1.0|           2.0|            2.0|        1.0|         1.0|          1.0|           1.0|         1.0|          1.0|          0.5|\n",
            "|  1|             2|  Ivysaur|  Bisaknosp| フシギソウ (Fushigisou)|         1|               0|           0|          0|Seed Pokémon|          2| Grass|Poison|     1.0|     13.0|               2| Overgrow|     null|   Chlorophyll|       405.0|60.0|  62.0|   63.0|     80.0|      80.0| 60.0|      45.0|           70.0|          142.0|Medium Slow|              2|     Grass|   Monster|           87.5|      20.0|           1.0|         2.0|          0.5|             0.5|         0.25|        2.0|          0.5|           1.0|           1.0|           2.0|            2.0|        1.0|         1.0|          1.0|           1.0|         1.0|          1.0|          0.5|\n",
            "+---+--------------+---------+-----------+------------------------+----------+----------------+------------+-----------+------------+-----------+------+------+--------+---------+----------------+---------+---------+--------------+------------+----+------+-------+---------+----------+-----+----------+---------------+---------------+-----------+---------------+----------+----------+---------------+----------+--------------+------------+-------------+----------------+-------------+-----------+-------------+--------------+--------------+--------------+---------------+-----------+------------+-------------+--------------+------------+-------------+-------------+\n",
            "only showing top 2 rows\n",
            "\n",
            "+---+--------------------+------------+--------+\n",
            "|_c0|            District|       State|Literacy|\n",
            "+---+--------------------+------------+--------+\n",
            "|  1|               Thane| Maharashtra|   84.53|\n",
            "|  2| North Twenty Fou...| West Bengal|   84.06|\n",
            "+---+--------------------+------------+--------+\n",
            "only showing top 2 rows\n",
            "\n"
          ]
        }
      ]
    },
    {
      "cell_type": "markdown",
      "source": [
        "## Calculate Age Function"
      ],
      "metadata": {
        "id": "uZO5a9kG_rpJ"
      }
    },
    {
      "cell_type": "code",
      "execution_count": null,
      "metadata": {
        "id": "HIi4kcsEJqVD"
      },
      "outputs": [],
      "source": [
        "from pyspark.sql.functions import lit, to_date, current_date, datediff\n",
        "\n",
        "def cal_age(date):\n",
        "  age = datediff(current_date(), to_date(date)) \n",
        "  return age/365"
      ]
    },
    {
      "cell_type": "code",
      "source": [
        "d1.select(d1.date, cal_age(d1.date).alias(\"age (years)\")).show(5)"
      ],
      "metadata": {
        "colab": {
          "base_uri": "https://localhost:8080/"
        },
        "id": "ZF-lsRq09lNR",
        "outputId": "95938638-7b80-427b-909a-4aaaf7092e24"
      },
      "execution_count": null,
      "outputs": [
        {
          "output_type": "stream",
          "name": "stdout",
          "text": [
            "+----------+------------------+\n",
            "|      date|       age (years)|\n",
            "+----------+------------------+\n",
            "|1872-11-30|149.87123287671233|\n",
            "|1873-03-08| 149.6027397260274|\n",
            "|1874-03-07| 148.6054794520548|\n",
            "|1875-03-06|147.60821917808218|\n",
            "|1876-03-04| 146.6109589041096|\n",
            "+----------+------------------+\n",
            "only showing top 5 rows\n",
            "\n"
          ]
        }
      ]
    },
    {
      "cell_type": "markdown",
      "source": [
        "## DataSet Join"
      ],
      "metadata": {
        "id": "d4NIdBkyAPS9"
      }
    },
    {
      "cell_type": "code",
      "source": [
        "print(\"cross join\")\n",
        "d3.join(d2, d3._c0 == d2._c0, \"cross\").select(d2[\"_c0\"],d3[\"State\"],d2[\"species\"]).show(3)\n",
        "\n",
        "print(\"outer join\")\n",
        "d3.join(d2, d3._c0 == d2._c0, \"outer\").select(d2[\"_c0\"],d3[\"State\"],d2[\"japanese_name\"]).show(3)\n",
        "\n",
        "print(\"full join\")\n",
        "d3.join(d2, d3._c0 == d2._c0, \"full\").select(d2[\"_c0\"],d3[\"District\"],d2[\"german_name\"]).show(3)\n",
        "\n",
        "print(\"left join\")\n",
        "d3.join(d2, d3._c0 == d2._c0, \"left\").select(d2[\"_c0\"],d3[\"Literacy\"],d2[\"ability_hidden\"]).show(3)\n",
        "\n",
        "print(\"right join\")\n",
        "d3.join(d2, d3._c0 == d2._c0, \"right\").select(d2[\"_c0\"],d3[\"Literacy\"],d2[\"defense\"]).show(3)\n",
        "\n",
        "\n",
        "# cross, outer, full, fullouter, full_outer, left, leftouter, left_outer, right, rightouter, right_outer, semi, leftsemi, left_semi, anti, leftanti and left_anti."
      ],
      "metadata": {
        "colab": {
          "base_uri": "https://localhost:8080/"
        },
        "id": "woedr1I9_et-",
        "outputId": "fda614a4-f203-44e8-b021-c63948db3bf4"
      },
      "execution_count": null,
      "outputs": [
        {
          "output_type": "stream",
          "name": "stdout",
          "text": [
            "cross join\n",
            "+---+------------+------------+\n",
            "|_c0|       State|     species|\n",
            "+---+------------+------------+\n",
            "|  1| Maharashtra|Seed Pokémon|\n",
            "|  2| West Bengal|Seed Pokémon|\n",
            "|  3|   Karnataka|Seed Pokémon|\n",
            "+---+------------+------------+\n",
            "only showing top 3 rows\n",
            "\n",
            "outer join\n",
            "+---+------------------+----------------------+\n",
            "|_c0|             State|         japanese_name|\n",
            "+---+------------------+----------------------+\n",
            "|148|     Uttar Pradesh|     ガルーラ (Garura)|\n",
            "|463|           Haryana|   デオキシス (Deoxys)|\n",
            "|471| Jammu and Kashmir|ポッタイシ (Pottaishi)|\n",
            "+---+------------------+----------------------+\n",
            "only showing top 3 rows\n",
            "\n",
            "full join\n",
            "+---+-------------+-----------+\n",
            "|_c0|     District|german_name|\n",
            "+---+-------------+-----------+\n",
            "|148|  Maharajganj|    Kangama|\n",
            "|463| Mahendragarh|     Deoxys|\n",
            "|471|      Kupwara|    Pliprin|\n",
            "+---+-------------+-----------+\n",
            "only showing top 3 rows\n",
            "\n",
            "left join\n",
            "+---+--------+--------------+\n",
            "|_c0|Literacy|ability_hidden|\n",
            "+---+--------+--------------+\n",
            "|  1|   84.53|   Chlorophyll|\n",
            "|  2|   84.06|   Chlorophyll|\n",
            "|  3|   87.67|          null|\n",
            "+---+--------+--------------+\n",
            "only showing top 3 rows\n",
            "\n",
            "right join\n",
            "+---+--------+-------+\n",
            "|_c0|Literacy|defense|\n",
            "+---+--------+-------+\n",
            "|  0|    null|   49.0|\n",
            "|  1|   84.53|   63.0|\n",
            "|  2|   84.06|   83.0|\n",
            "+---+--------+-------+\n",
            "only showing top 3 rows\n",
            "\n"
          ]
        }
      ]
    }
  ]
}