{
  "nbformat": 4,
  "nbformat_minor": 0,
  "metadata": {
    "colab": {
      "provenance": [],
      "authorship_tag": "ABX9TyNlu252ndYCVOD1/fbDUllE",
      "include_colab_link": true
    },
    "kernelspec": {
      "name": "python3",
      "display_name": "Python 3"
    },
    "language_info": {
      "name": "python"
    }
  },
  "cells": [
    {
      "cell_type": "markdown",
      "metadata": {
        "id": "view-in-github",
        "colab_type": "text"
      },
      "source": [
        "<a href=\"https://colab.research.google.com/github/YaminMahdi/All-.ipynb/blob/master/LAB3_by_193_15_1071.ipynb\" target=\"_parent\"><img src=\"https://colab.research.google.com/assets/colab-badge.svg\" alt=\"Open In Colab\"/></a>"
      ]
    },
    {
      "cell_type": "code",
      "execution_count": 1,
      "metadata": {
        "colab": {
          "base_uri": "https://localhost:8080/"
        },
        "id": "JF_4noFZw3EE",
        "outputId": "4cf38fca-cde2-475d-bd37-a49ad159a142"
      },
      "outputs": [
        {
          "output_type": "stream",
          "name": "stdout",
          "text": [
            "Get:1 https://cloud.r-project.org/bin/linux/ubuntu bionic-cran40/ InRelease [3,626 B]\n",
            "Get:2 http://security.ubuntu.com/ubuntu bionic-security InRelease [88.7 kB]\n",
            "Ign:3 https://developer.download.nvidia.com/compute/machine-learning/repos/ubuntu1804/x86_64  InRelease\n",
            "Hit:4 https://developer.download.nvidia.com/compute/cuda/repos/ubuntu1804/x86_64  InRelease\n",
            "Hit:5 https://developer.download.nvidia.com/compute/machine-learning/repos/ubuntu1804/x86_64  Release\n",
            "Get:6 http://ppa.launchpad.net/c2d4u.team/c2d4u4.0+/ubuntu bionic InRelease [15.9 kB]\n",
            "Hit:7 http://archive.ubuntu.com/ubuntu bionic InRelease\n",
            "Get:9 http://archive.ubuntu.com/ubuntu bionic-updates InRelease [88.7 kB]\n",
            "Hit:10 http://ppa.launchpad.net/cran/libgit2/ubuntu bionic InRelease\n",
            "Get:11 http://ppa.launchpad.net/deadsnakes/ppa/ubuntu bionic InRelease [15.9 kB]\n",
            "Get:12 http://archive.ubuntu.com/ubuntu bionic-backports InRelease [74.6 kB]\n",
            "Get:13 http://security.ubuntu.com/ubuntu bionic-security/universe amd64 Packages [1,540 kB]\n",
            "Hit:14 http://ppa.launchpad.net/graphics-drivers/ppa/ubuntu bionic InRelease\n",
            "Get:15 http://archive.ubuntu.com/ubuntu bionic-updates/main amd64 Packages [3,397 kB]\n",
            "Get:16 http://ppa.launchpad.net/c2d4u.team/c2d4u4.0+/ubuntu bionic/main Sources [2,105 kB]\n",
            "Get:17 http://security.ubuntu.com/ubuntu bionic-security/main amd64 Packages [2,965 kB]\n",
            "Get:18 http://archive.ubuntu.com/ubuntu bionic-updates/universe amd64 Packages [2,318 kB]\n",
            "Get:19 http://ppa.launchpad.net/c2d4u.team/c2d4u4.0+/ubuntu bionic/main amd64 Packages [1,079 kB]\n",
            "Get:20 http://ppa.launchpad.net/deadsnakes/ppa/ubuntu bionic/main amd64 Packages [45.2 kB]\n",
            "Fetched 13.7 MB in 7s (1,969 kB/s)\n",
            "Reading package lists... Done\n"
          ]
        }
      ],
      "source": [
        "!apt-get update\n",
        "!apt-get install openjdk-8-jdk-headless -qq > /dev/null\n",
        "!wget -q http://archive.apache.org/dist/spark/spark-3.1.1/spark-3.1.1-bin-hadoop3.2.tgz\n",
        "!tar xf spark-3.1.1-bin-hadoop3.2.tgz\n",
        "!pip install -q findspark"
      ]
    },
    {
      "cell_type": "code",
      "source": [
        "import os\n",
        "os.environ[\"JAVA_HOME\"] = \"/usr/lib/jvm/java-8-openjdk-amd64\"\n",
        "os.environ[\"SPARK_HOME\"] = \"/content/spark-3.1.1-bin-hadoop3.2\""
      ],
      "metadata": {
        "id": "EC9-dwhvxZlw"
      },
      "execution_count": 2,
      "outputs": []
    },
    {
      "cell_type": "code",
      "source": [
        "import findspark\n",
        "findspark.init()\n",
        "from pyspark.sql import SparkSession\n",
        "spark = SparkSession.builder.master(\"local[1]\").appName(\"RDD\").getOrCreate()\n",
        "spark"
      ],
      "metadata": {
        "colab": {
          "base_uri": "https://localhost:8080/",
          "height": 222
        },
        "id": "BnxQIn3WxcD5",
        "outputId": "76f44a01-06a6-4c0c-b77e-2f65ba2b9f6b"
      },
      "execution_count": 3,
      "outputs": [
        {
          "output_type": "execute_result",
          "data": {
            "text/plain": [
              "<pyspark.sql.session.SparkSession at 0x7fab47420e50>"
            ],
            "text/html": [
              "\n",
              "            <div>\n",
              "                <p><b>SparkSession - in-memory</b></p>\n",
              "                \n",
              "        <div>\n",
              "            <p><b>SparkContext</b></p>\n",
              "\n",
              "            <p><a href=\"http://ee133a5125fa:4040\">Spark UI</a></p>\n",
              "\n",
              "            <dl>\n",
              "              <dt>Version</dt>\n",
              "                <dd><code>v3.1.1</code></dd>\n",
              "              <dt>Master</dt>\n",
              "                <dd><code>local[1]</code></dd>\n",
              "              <dt>AppName</dt>\n",
              "                <dd><code>RDD</code></dd>\n",
              "            </dl>\n",
              "        </div>\n",
              "        \n",
              "            </div>\n",
              "        "
            ]
          },
          "metadata": {},
          "execution_count": 3
        }
      ]
    },
    {
      "cell_type": "code",
      "source": [
        "!wget https://raw.githubusercontent.com/jaxon-z/CSE-413-Big-Data-IoT-Lab/main/Rich.csv"
      ],
      "metadata": {
        "colab": {
          "base_uri": "https://localhost:8080/"
        },
        "id": "3gmkkStbxd2Z",
        "outputId": "0b4ef2db-f087-40f0-ad28-9e610f5486c1"
      },
      "execution_count": 4,
      "outputs": [
        {
          "output_type": "stream",
          "name": "stdout",
          "text": [
            "--2022-09-15 06:15:47--  https://raw.githubusercontent.com/jaxon-z/CSE-413-Big-Data-IoT-Lab/main/Rich.csv\n",
            "Resolving raw.githubusercontent.com (raw.githubusercontent.com)... 185.199.108.133, 185.199.111.133, 185.199.109.133, ...\n",
            "Connecting to raw.githubusercontent.com (raw.githubusercontent.com)|185.199.108.133|:443... connected.\n",
            "HTTP request sent, awaiting response... 200 OK\n",
            "Length: 7630 (7.5K) [text/plain]\n",
            "Saving to: ‘Rich.csv’\n",
            "\n",
            "Rich.csv            100%[===================>]   7.45K  --.-KB/s    in 0s      \n",
            "\n",
            "2022-09-15 06:15:48 (47.9 MB/s) - ‘Rich.csv’ saved [7630/7630]\n",
            "\n"
          ]
        }
      ]
    },
    {
      "cell_type": "code",
      "source": [
        "df = spark.read.csv('Rich.csv', header=True)\n",
        "df.show(5)"
      ],
      "metadata": {
        "colab": {
          "base_uri": "https://localhost:8080/"
        },
        "id": "bJWtXVzmxhHD",
        "outputId": "5ffe2a5a-753a-43d0-cab5-1c11a5d20ebf"
      },
      "execution_count": 5,
      "outputs": [
        {
          "output_type": "stream",
          "name": "stdout",
          "text": [
            "+--------------------+----------------+---+-----------------+------------------+--------------------+\n",
            "|                Name|        NetWorth|Age|Country/Territory|            Source|            Industry|\n",
            "+--------------------+----------------+---+-----------------+------------------+--------------------+\n",
            "|           Elon Musk|$219,000,000,000| 50|    United States|     Tesla, SpaceX|          Automotive|\n",
            "|          Jeff Bezos|$171,000,000,000| 58|    United States|            Amazon|          Technology|\n",
            "|Bernard Arnault &...|$158,000,000,000| 73|           France|              LVMH|    Fashion & Retail|\n",
            "|          Bill Gates|$129,000,000,000| 66|    United States|         Microsoft|          Technology|\n",
            "|      Warren Buffett|$118,000,000,000| 91|    United States|Berkshire Hathaway|Finance & Investm...|\n",
            "+--------------------+----------------+---+-----------------+------------------+--------------------+\n",
            "only showing top 5 rows\n",
            "\n"
          ]
        }
      ]
    },
    {
      "cell_type": "code",
      "source": [
        "data = [1,2,3,4,5,6,7,8,9,12,34,52,2,5]\n",
        "rdd = spark.sparkContext.parallelize( data, 3)\n",
        "#rdd.collect()\n",
        "#rdd.glom().collect()\n",
        "print(\"Number of Partitions: \"+ str(rdd.getNumPartitions()))\n",
        "\n",
        "reRDD = rdd.repartition(5)\n",
        "print(\"Number of Partitions: \"+ str(reRDD.getNumPartitions()))\n",
        "reRDD.glom().collect()"
      ],
      "metadata": {
        "colab": {
          "base_uri": "https://localhost:8080/"
        },
        "id": "HMtHADKExkbF",
        "outputId": "60f5e843-a8ac-4cd4-8c0f-2934d39dadfa"
      },
      "execution_count": 6,
      "outputs": [
        {
          "output_type": "stream",
          "name": "stdout",
          "text": [
            "Number of Partitions: 3\n",
            "Number of Partitions: 5\n"
          ]
        },
        {
          "output_type": "execute_result",
          "data": {
            "text/plain": [
              "[[], [1, 2, 3, 4], [9, 12, 34, 52, 2, 5], [5, 6, 7, 8], []]"
            ]
          },
          "metadata": {},
          "execution_count": 6
        }
      ]
    },
    {
      "cell_type": "code",
      "source": [
        "rdd2 = spark.sparkContext.textFile(\"/content/test.txt\")\n",
        "rdd2.collect()"
      ],
      "metadata": {
        "colab": {
          "base_uri": "https://localhost:8080/"
        },
        "id": "uaJqEG9cxml_",
        "outputId": "28bedc25-c25a-44c2-ca6a-5b14cff243ec"
      },
      "execution_count": 21,
      "outputs": [
        {
          "output_type": "execute_result",
          "data": {
            "text/plain": [
              "['Project Gutenberg’s',\n",
              " 'Alice’s Adventures in Wonderland',\n",
              " 'by Lewis Carroll',\n",
              " 'This eBook is for the use',\n",
              " 'of anyone anywhere',\n",
              " 'at no cost and with',\n",
              " 'Alice’s Adventures in Wonderland',\n",
              " 'by Lewis Carroll',\n",
              " 'This eBook is for the use',\n",
              " 'of anyone anywhere',\n",
              " 'at no cost and with',\n",
              " 'This eBook is for the use',\n",
              " 'of anyone anywhere',\n",
              " 'at no cost and with',\n",
              " 'Project Gutenberg’s',\n",
              " 'Alice’s Adventures in Wonderland',\n",
              " 'by Lewis Carroll',\n",
              " 'This eBook is for the use',\n",
              " 'of anyone anywhere',\n",
              " 'at no cost and with',\n",
              " 'Alice’s Adventures in Wonderland',\n",
              " 'by Lewis Carroll']"
            ]
          },
          "metadata": {},
          "execution_count": 21
        }
      ]
    },
    {
      "cell_type": "code",
      "source": [
        "rdd3 = rdd2.flatMap(lambda x: x.split(\" \"))\n",
        "rdd3.collect()"
      ],
      "metadata": {
        "id": "69EcumhAyKoo"
      },
      "execution_count": null,
      "outputs": []
    },
    {
      "cell_type": "code",
      "source": [
        "rdd4 = rdd3.map(lambda x: (x,1))\n",
        "rdd4.collect()"
      ],
      "metadata": {
        "id": "l3raYrqzysvM"
      },
      "execution_count": null,
      "outputs": []
    },
    {
      "cell_type": "code",
      "source": [
        "rdd5 = rdd4.reduceByKey(lambda a,b:a+b)   #transformation\n",
        "rdd5.collect()"
      ],
      "metadata": {
        "id": "XuEXtQwtzCFo"
      },
      "execution_count": null,
      "outputs": []
    },
    {
      "cell_type": "code",
      "source": [
        "rdd6 = rdd5.map(lambda x: (x[0], x[1])).sortByKey()\n",
        "rdd6.collect()"
      ],
      "metadata": {
        "id": "N_4-8Mnk0tPT"
      },
      "execution_count": null,
      "outputs": []
    },
    {
      "cell_type": "code",
      "source": [
        "rdd7 = rdd6.filter(lambda x: 'Th' in x[0])\n",
        "rdd7.collect()"
      ],
      "metadata": {
        "colab": {
          "base_uri": "https://localhost:8080/"
        },
        "id": "V2JgzNgh1QX9",
        "outputId": "b3272ba8-5b43-48cc-fc3f-c9f075bc1e1a"
      },
      "execution_count": 35,
      "outputs": [
        {
          "output_type": "execute_result",
          "data": {
            "text/plain": [
              "[('This', 4)]"
            ]
          },
          "metadata": {},
          "execution_count": 35
        }
      ]
    },
    {
      "cell_type": "code",
      "source": [
        "rdd.collect()\n"
      ],
      "metadata": {
        "colab": {
          "base_uri": "https://localhost:8080/"
        },
        "id": "SGhxSdmJ2Y07",
        "outputId": "659fe1d7-a368-4469-d1eb-90ae08edb6d6"
      },
      "execution_count": 63,
      "outputs": [
        {
          "output_type": "execute_result",
          "data": {
            "text/plain": [
              "[1, 2, 3, 4, 5, 6, 7, 8, 9, 12, 34, 52, 2, 5]"
            ]
          },
          "metadata": {},
          "execution_count": 63
        }
      ]
    },
    {
      "cell_type": "code",
      "source": [
        "rdd.first()\n"
      ],
      "metadata": {
        "colab": {
          "base_uri": "https://localhost:8080/"
        },
        "id": "5xRspAq_2phQ",
        "outputId": "42f616c2-8835-4bce-c9c0-5c7756d72c7f"
      },
      "execution_count": 53,
      "outputs": [
        {
          "output_type": "execute_result",
          "data": {
            "text/plain": [
              "1"
            ]
          },
          "metadata": {},
          "execution_count": 53
        }
      ]
    },
    {
      "cell_type": "code",
      "source": [
        "rdd.take(4)"
      ],
      "metadata": {
        "colab": {
          "base_uri": "https://localhost:8080/"
        },
        "id": "1LKZAqu32q3_",
        "outputId": "0620b013-1202-44ae-a319-40438e754904"
      },
      "execution_count": 54,
      "outputs": [
        {
          "output_type": "execute_result",
          "data": {
            "text/plain": [
              "[1, 2, 3, 4]"
            ]
          },
          "metadata": {},
          "execution_count": 54
        }
      ]
    },
    {
      "cell_type": "code",
      "source": [
        "rdd.max()"
      ],
      "metadata": {
        "colab": {
          "base_uri": "https://localhost:8080/"
        },
        "id": "iFgsMfVU2sVd",
        "outputId": "e3ff3ae5-9afe-4ed4-bf53-4ab2c23e8ad4"
      },
      "execution_count": 56,
      "outputs": [
        {
          "output_type": "execute_result",
          "data": {
            "text/plain": [
              "52"
            ]
          },
          "metadata": {},
          "execution_count": 56
        }
      ]
    },
    {
      "cell_type": "code",
      "source": [
        "rdd.count()"
      ],
      "metadata": {
        "colab": {
          "base_uri": "https://localhost:8080/"
        },
        "id": "YmfV3JQK2xeQ",
        "outputId": "e627fa0e-7af4-4a59-cfef-ab42388764f0"
      },
      "execution_count": 57,
      "outputs": [
        {
          "output_type": "execute_result",
          "data": {
            "text/plain": [
              "14"
            ]
          },
          "metadata": {},
          "execution_count": 57
        }
      ]
    },
    {
      "cell_type": "code",
      "source": [
        "rdd.reduce(lambda a,b:a+b)  #action"
      ],
      "metadata": {
        "colab": {
          "base_uri": "https://localhost:8080/"
        },
        "id": "R3_Usd5c3JGP",
        "outputId": "77dbb3ba-6295-4abd-819f-dc342e465691"
      },
      "execution_count": 61,
      "outputs": [
        {
          "output_type": "execute_result",
          "data": {
            "text/plain": [
              "150"
            ]
          },
          "metadata": {},
          "execution_count": 61
        }
      ]
    },
    {
      "cell_type": "code",
      "source": [
        "rdd5.saveAsTextFile(\"/content/yk\")"
      ],
      "metadata": {
        "id": "jVyMapoC34Q1"
      },
      "execution_count": 65,
      "outputs": []
    },
    {
      "cell_type": "code",
      "source": [
        "reRDD.saveAsTextFile(\"/content/yk1\")"
      ],
      "metadata": {
        "id": "nt4Z8Xmp6Bf0"
      },
      "execution_count": 66,
      "outputs": []
    }
  ]
}