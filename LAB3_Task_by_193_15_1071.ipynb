{
  "nbformat": 4,
  "nbformat_minor": 0,
  "metadata": {
    "colab": {
      "provenance": [],
      "authorship_tag": "ABX9TyMYcC5K3fspB1SYuVroQifE",
      "include_colab_link": true
    },
    "kernelspec": {
      "name": "python3",
      "display_name": "Python 3"
    },
    "language_info": {
      "name": "python"
    }
  },
  "cells": [
    {
      "cell_type": "markdown",
      "metadata": {
        "id": "view-in-github",
        "colab_type": "text"
      },
      "source": [
        "<a href=\"https://colab.research.google.com/github/YaminMahdi/All-.ipynb/blob/master/LAB3_Task_by_193_15_1071.ipynb\" target=\"_parent\"><img src=\"https://colab.research.google.com/assets/colab-badge.svg\" alt=\"Open In Colab\"/></a>"
      ]
    },
    {
      "cell_type": "code",
      "execution_count": 21,
      "metadata": {
        "colab": {
          "base_uri": "https://localhost:8080/"
        },
        "id": "JF_4noFZw3EE",
        "outputId": "1abe8e31-ae60-4247-94c5-a15bb7238dff"
      },
      "outputs": [
        {
          "output_type": "stream",
          "name": "stdout",
          "text": [
            "\r0% [Working]\r            \rHit:1 http://archive.ubuntu.com/ubuntu bionic InRelease\n",
            "\r0% [Waiting for headers] [Waiting for headers] [Connected to cloud.r-project.or\r                                                                               \rHit:2 http://security.ubuntu.com/ubuntu bionic-security InRelease\n",
            "\r0% [Waiting for headers] [Connected to cloud.r-project.org (18.160.213.72)] [Co\r0% [1 InRelease gpgv 242 kB] [Waiting for headers] [Connected to cloud.r-projec\r                                                                               \rHit:3 https://cloud.r-project.org/bin/linux/ubuntu bionic-cran40/ InRelease\n",
            "\r0% [1 InRelease gpgv 242 kB] [Waiting for headers] [Waiting for headers] [Conne\r                                                                               \rHit:4 http://archive.ubuntu.com/ubuntu bionic-updates InRelease\n",
            "\r0% [1 InRelease gpgv 242 kB] [Waiting for headers] [Waiting for headers] [Conne\r                                                                               \rHit:5 http://archive.ubuntu.com/ubuntu bionic-backports InRelease\n",
            "\r0% [1 InRelease gpgv 242 kB] [Waiting for headers] [Connecting to ppa.launchpad\r                                                                               \rIgn:6 https://developer.download.nvidia.com/compute/machine-learning/repos/ubuntu1804/x86_64  InRelease\n",
            "\r0% [1 InRelease gpgv 242 kB] [Waiting for headers] [Connecting to ppa.launchpad\r                                                                               \rHit:7 https://developer.download.nvidia.com/compute/cuda/repos/ubuntu1804/x86_64  InRelease\n",
            "Hit:8 https://developer.download.nvidia.com/compute/machine-learning/repos/ubuntu1804/x86_64  Release\n",
            "Hit:9 http://ppa.launchpad.net/c2d4u.team/c2d4u4.0+/ubuntu bionic InRelease\n",
            "Hit:10 http://ppa.launchpad.net/cran/libgit2/ubuntu bionic InRelease\n",
            "Hit:11 http://ppa.launchpad.net/deadsnakes/ppa/ubuntu bionic InRelease\n",
            "Hit:12 http://ppa.launchpad.net/graphics-drivers/ppa/ubuntu bionic InRelease\n",
            "Reading package lists... Done\n",
            "Downloading...\n",
            "From: https://drive.google.com/uc?id=1HFIClmLVILw851oU3n-hAz3zXkcMZK-I\n",
            "To: /content/spark-3.1.2-bin-hadoop3.2_by_yk.tgz\n",
            "100% 229M/229M [00:01<00:00, 208MB/s]\n"
          ]
        }
      ],
      "source": [
        "!apt-get update\n",
        "!apt-get install openjdk-8-jdk-headless -qq > /dev/null\n",
        "!pip install -q gdown && gdown --fuzzy https://drive.google.com/file/d/1HFIClmLVILw851oU3n-hAz3zXkcMZK-I/view      \n",
        "!tar xf spark-3.1.2-bin-hadoop3.2_by_yk.tgz    \n",
        "!pip install -q findspark"
      ]
    },
    {
      "cell_type": "code",
      "source": [
        "import os\n",
        "os.environ[\"JAVA_HOME\"] = \"/usr/lib/jvm/java-8-openjdk-amd64\"\n",
        "os.environ[\"SPARK_HOME\"] = \"/content/spark-3.1.2-bin-hadoop3.2\""
      ],
      "metadata": {
        "id": "EC9-dwhvxZlw"
      },
      "execution_count": 8,
      "outputs": []
    },
    {
      "cell_type": "code",
      "source": [
        "import findspark\n",
        "findspark.init()\n",
        "from pyspark.sql import SparkSession\n",
        "spark = SparkSession.builder.master(\"local[1]\").appName(\"RDD\").getOrCreate()\n",
        "spark"
      ],
      "metadata": {
        "colab": {
          "base_uri": "https://localhost:8080/",
          "height": 219
        },
        "id": "BnxQIn3WxcD5",
        "outputId": "7513b8af-9d7f-4793-94a1-dfc08a81562e"
      },
      "execution_count": 9,
      "outputs": [
        {
          "output_type": "execute_result",
          "data": {
            "text/plain": [
              "<pyspark.sql.session.SparkSession at 0x7f90ae6a7ad0>"
            ],
            "text/html": [
              "\n",
              "            <div>\n",
              "                <p><b>SparkSession - in-memory</b></p>\n",
              "                \n",
              "        <div>\n",
              "            <p><b>SparkContext</b></p>\n",
              "\n",
              "            <p><a href=\"http://e4462c843402:4040\">Spark UI</a></p>\n",
              "\n",
              "            <dl>\n",
              "              <dt>Version</dt>\n",
              "                <dd><code>v3.1.2</code></dd>\n",
              "              <dt>Master</dt>\n",
              "                <dd><code>local[1]</code></dd>\n",
              "              <dt>AppName</dt>\n",
              "                <dd><code>RDD</code></dd>\n",
              "            </dl>\n",
              "        </div>\n",
              "        \n",
              "            </div>\n",
              "        "
            ]
          },
          "metadata": {},
          "execution_count": 9
        }
      ]
    },
    {
      "cell_type": "code",
      "source": [
        "rdd = spark.sparkContext.textFile(\"/content/yk.txt\")\n",
        "rdd.collect()"
      ],
      "metadata": {
        "colab": {
          "base_uri": "https://localhost:8080/"
        },
        "id": "uaJqEG9cxml_",
        "outputId": "a1d461f5-8343-4ee4-c8e7-e97349678d80"
      },
      "execution_count": 11,
      "outputs": [
        {
          "output_type": "execute_result",
          "data": {
            "text/plain": [
              "['A Journey By Train Composition : A journey is an exciting experience to everybody. ',\n",
              " 'It provides a student with a relief from the routine works. ',\n",
              " 'So, a journey is more attractive to a student.A journey by train is especially very pleasant and enjoyable to me. ',\n",
              " 'A few days ago I made a journey by train from Dhaka to Chittagong.',\n",
              " 'Occasion: During the last vacation one of my friends requested me to attend his sister’s marriage ceremony at Chittagong. ',\n",
              " 'Our relation is so deep that I could not regret the invitation . On top of that, it was an opportunity to make a train journey. ',\n",
              " 'So, I gladly accepted the invitation.',\n",
              " 'Description of the journey: On the fixed day we reached the Kamalapur station at 7 a.m. ',\n",
              " 'The station was very crowded. Somehow we managed to buy our tickets. With great difficulty we got into the train. ',\n",
              " 'After a few minutes the guard blew the whistle and the train began to move on. I heaved a sigh of relief. ',\n",
              " 'A gentle breeze entered the compartment. I felt fresh and cold. This helped my mind to enjoy the whole journey.',\n",
              " 'Scenery enjoyed: I kept looking outside-through the window. The train was passing through the green fields. ',\n",
              " 'Dew drops on green grasses were glittering like pearls, trees and houses seemed to run behind. ',\n",
              " 'We saw the farmers working in the fields.Cattle were grazing here and there. The train stopped at a few big stations.',\n",
              " 'We bought boiled eggs, bananas, magazines etc. from the hawkers. When the train started from Feni station, I saw the hills of Chittagong. ',\n",
              " 'On the right, I saw the vast sheet of water of the Bay of Bengal. Gradually the sun was setting in the western sky. ',\n",
              " 'The golden rays of the declining sun fell on the water. The whole water of the Bay of Bengal turned reddish. ',\n",
              " 'This scenery was too much charming to give my mind into another fields. All these pleased me.',\n",
              " 'Destination: In the midst of my reverie the train reached Chittagong at 5 p.m. We got down from the train and met my friend. ',\n",
              " 'He was there to welcome us.we safely reached my friend’s house.',\n",
              " 'Conclusion: It was the most pleasant journey in my life. I enjoyed it so much that the memory of the journey will remain ever fresh in my heart.']"
            ]
          },
          "metadata": {},
          "execution_count": 11
        }
      ]
    },
    {
      "cell_type": "code",
      "source": [
        "rdd2 = rdd.flatMap(lambda x: x.split(\" \"))\n",
        "rdd2.take(20)"
      ],
      "metadata": {
        "id": "69EcumhAyKoo",
        "colab": {
          "base_uri": "https://localhost:8080/"
        },
        "outputId": "9c2130c6-4d59-48d8-d7fc-25cf21d17461"
      },
      "execution_count": 12,
      "outputs": [
        {
          "output_type": "execute_result",
          "data": {
            "text/plain": [
              "['A',\n",
              " 'Journey',\n",
              " 'By',\n",
              " 'Train',\n",
              " 'Composition',\n",
              " ':',\n",
              " 'A',\n",
              " 'journey',\n",
              " 'is',\n",
              " 'an',\n",
              " 'exciting',\n",
              " 'experience',\n",
              " 'to',\n",
              " 'everybody.',\n",
              " '',\n",
              " 'It',\n",
              " 'provides',\n",
              " 'a',\n",
              " 'student',\n",
              " 'with']"
            ]
          },
          "metadata": {},
          "execution_count": 12
        }
      ]
    },
    {
      "cell_type": "code",
      "source": [
        "rdd3 = rdd2.map(lambda x: (x,1))\n",
        "rdd3.take(10)"
      ],
      "metadata": {
        "id": "l3raYrqzysvM",
        "colab": {
          "base_uri": "https://localhost:8080/"
        },
        "outputId": "03940441-1549-4036-e229-64c5aad92a04"
      },
      "execution_count": 13,
      "outputs": [
        {
          "output_type": "execute_result",
          "data": {
            "text/plain": [
              "[('A', 1),\n",
              " ('Journey', 1),\n",
              " ('By', 1),\n",
              " ('Train', 1),\n",
              " ('Composition', 1),\n",
              " (':', 1),\n",
              " ('A', 1),\n",
              " ('journey', 1),\n",
              " ('is', 1),\n",
              " ('an', 1)]"
            ]
          },
          "metadata": {},
          "execution_count": 13
        }
      ]
    },
    {
      "cell_type": "code",
      "source": [
        "rdd4 = rdd3.reduceByKey(lambda a,b:a+b)\n",
        "rdd4.take(10)"
      ],
      "metadata": {
        "id": "XuEXtQwtzCFo",
        "colab": {
          "base_uri": "https://localhost:8080/"
        },
        "outputId": "bb277728-a29a-4cd8-8cb7-b974f9fba764"
      },
      "execution_count": 14,
      "outputs": [
        {
          "output_type": "execute_result",
          "data": {
            "text/plain": [
              "[('A', 4),\n",
              " ('Journey', 1),\n",
              " ('By', 1),\n",
              " ('Train', 1),\n",
              " ('Composition', 1),\n",
              " (':', 1),\n",
              " ('journey', 6),\n",
              " ('is', 4),\n",
              " ('an', 2),\n",
              " ('exciting', 1)]"
            ]
          },
          "metadata": {},
          "execution_count": 14
        }
      ]
    },
    {
      "cell_type": "code",
      "source": [
        "rdd5 = rdd4.map(lambda x: (x[0], x[1])).sortByKey()\n",
        "rdd5.take(10)"
      ],
      "metadata": {
        "id": "N_4-8Mnk0tPT",
        "colab": {
          "base_uri": "https://localhost:8080/"
        },
        "outputId": "de5ad23b-62ff-4b2e-d6c1-cc613a1729da"
      },
      "execution_count": 15,
      "outputs": [
        {
          "output_type": "execute_result",
          "data": {
            "text/plain": [
              "[('', 14),\n",
              " ('.', 1),\n",
              " ('5', 1),\n",
              " ('7', 1),\n",
              " (':', 1),\n",
              " ('A', 4),\n",
              " ('After', 1),\n",
              " ('All', 1),\n",
              " ('Bay', 2),\n",
              " ('Bengal', 1)]"
            ]
          },
          "metadata": {},
          "execution_count": 15
        }
      ]
    },
    {
      "cell_type": "code",
      "source": [
        "#id: 193-15-1071\n",
        "rdd6 = rdd5.repartition(7)  #using 1 doesn't make any sense\n",
        "print(\"Number of Partitions: \"+ str(rdd6.getNumPartitions()))"
      ],
      "metadata": {
        "colab": {
          "base_uri": "https://localhost:8080/"
        },
        "id": "zOKEQddgEnsL",
        "outputId": "c001f15b-525e-495b-f40e-1106b54f979b"
      },
      "execution_count": 16,
      "outputs": [
        {
          "output_type": "stream",
          "name": "stdout",
          "text": [
            "Number of Partitions: 7\n"
          ]
        }
      ]
    },
    {
      "cell_type": "code",
      "source": [
        "rdd6.saveAsTextFile(\"/content/export\")"
      ],
      "metadata": {
        "id": "jVyMapoC34Q1"
      },
      "execution_count": 17,
      "outputs": []
    }
  ]
}