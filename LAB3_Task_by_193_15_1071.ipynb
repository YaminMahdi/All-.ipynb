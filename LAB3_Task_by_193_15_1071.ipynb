{
  "nbformat": 4,
  "nbformat_minor": 0,
  "metadata": {
    "colab": {
      "provenance": [],
      "authorship_tag": "ABX9TyMIGnluJDibzRRrVPSlQqWK",
      "include_colab_link": true
    },
    "kernelspec": {
      "name": "python3",
      "display_name": "Python 3"
    },
    "language_info": {
      "name": "python"
    }
  },
  "cells": [
    {
      "cell_type": "markdown",
      "metadata": {
        "id": "view-in-github",
        "colab_type": "text"
      },
      "source": [
        "<a href=\"https://colab.research.google.com/github/YaminMahdi/All-.ipynb/blob/master/LAB3_Task_by_193_15_1071.ipynb\" target=\"_parent\"><img src=\"https://colab.research.google.com/assets/colab-badge.svg\" alt=\"Open In Colab\"/></a>"
      ]
    },
    {
      "cell_type": "code",
      "execution_count": 5,
      "metadata": {
        "colab": {
          "base_uri": "https://localhost:8080/"
        },
        "id": "JF_4noFZw3EE",
        "outputId": "79da4358-1e1b-4dc6-a700-79fc3e1ac3fc"
      },
      "outputs": [
        {
          "output_type": "stream",
          "name": "stdout",
          "text": [
            "Hit:1 http://security.ubuntu.com/ubuntu bionic-security InRelease\n",
            "Hit:2 https://cloud.r-project.org/bin/linux/ubuntu bionic-cran40/ InRelease\n",
            "Hit:3 http://archive.ubuntu.com/ubuntu bionic InRelease\n",
            "Hit:4 http://ppa.launchpad.net/c2d4u.team/c2d4u4.0+/ubuntu bionic InRelease\n",
            "Ign:5 https://developer.download.nvidia.com/compute/machine-learning/repos/ubuntu1804/x86_64  InRelease\n",
            "Hit:6 https://developer.download.nvidia.com/compute/cuda/repos/ubuntu1804/x86_64  InRelease\n",
            "Hit:7 https://developer.download.nvidia.com/compute/machine-learning/repos/ubuntu1804/x86_64  Release\n",
            "Hit:8 http://archive.ubuntu.com/ubuntu bionic-updates InRelease\n",
            "Hit:9 http://ppa.launchpad.net/cran/libgit2/ubuntu bionic InRelease\n",
            "Hit:10 http://archive.ubuntu.com/ubuntu bionic-backports InRelease\n",
            "Hit:11 http://ppa.launchpad.net/deadsnakes/ppa/ubuntu bionic InRelease\n",
            "Hit:12 http://ppa.launchpad.net/graphics-drivers/ppa/ubuntu bionic InRelease\n",
            "Reading package lists...\n",
            "--2022-09-15 14:20:19--  https://mirrors.estointernet.in/apache/spark/spark-3.1.2/spark-3.1.2-bin-hadoop3.2.tgz\n",
            "Resolving mirrors.estointernet.in (mirrors.estointernet.in)... 43.255.166.254, 2403:8940:3:1::f\n",
            "Connecting to mirrors.estointernet.in (mirrors.estointernet.in)|43.255.166.254|:443... connected.\n",
            "HTTP request sent, awaiting response... 200 OK\n",
            "Length: 228834641 (218M) [application/octet-stream]\n",
            "Saving to: ‘spark-3.1.2-bin-hadoop3.2.tgz.3’\n",
            "\n",
            "spark-3.1.2-bin-had 100%[===================>] 218.23M  11.9MB/s    in 20s     \n",
            "\n",
            "2022-09-15 14:20:40 (10.7 MB/s) - ‘spark-3.1.2-bin-hadoop3.2.tgz.3’ saved [228834641/228834641]\n",
            "\n"
          ]
        }
      ],
      "source": [
        "!apt-get update\n",
        "!apt-get install openjdk-8-jdk-headless -qq > /dev/null\n",
        "!wget https://mirrors.estointernet.in/apache/spark/spark-3.1.2/spark-3.1.2-bin-hadoop3.2.tgz\n",
        "!tar xf spark-3.1.2-bin-hadoop3.2.tgz\n",
        "!pip install -q findspark"
      ]
    },
    {
      "cell_type": "code",
      "source": [
        "import os\n",
        "os.environ[\"JAVA_HOME\"] = \"/usr/lib/jvm/java-8-openjdk-amd64\"\n",
        "os.environ[\"SPARK_HOME\"] = \"/content/spark-3.1.2-bin-hadoop3.2_by_yk\""
      ],
      "metadata": {
        "id": "EC9-dwhvxZlw"
      },
      "execution_count": 7,
      "outputs": []
    },
    {
      "cell_type": "code",
      "source": [
        "import findspark\n",
        "findspark.init()\n",
        "from pyspark.sql import SparkSession\n",
        "spark = SparkSession.builder.master(\"local[1]\").appName(\"RDD\").getOrCreate()\n",
        "spark"
      ],
      "metadata": {
        "colab": {
          "base_uri": "https://localhost:8080/",
          "height": 222
        },
        "id": "BnxQIn3WxcD5",
        "outputId": "74539b7a-d723-4b02-c30f-2ba44c6a0059"
      },
      "execution_count": null,
      "outputs": [
        {
          "output_type": "execute_result",
          "data": {
            "text/plain": [
              "<pyspark.sql.session.SparkSession at 0x7effec55c950>"
            ],
            "text/html": [
              "\n",
              "            <div>\n",
              "                <p><b>SparkSession - in-memory</b></p>\n",
              "                \n",
              "        <div>\n",
              "            <p><b>SparkContext</b></p>\n",
              "\n",
              "            <p><a href=\"http://9f87c132b001:4040\">Spark UI</a></p>\n",
              "\n",
              "            <dl>\n",
              "              <dt>Version</dt>\n",
              "                <dd><code>v3.1.1</code></dd>\n",
              "              <dt>Master</dt>\n",
              "                <dd><code>local[1]</code></dd>\n",
              "              <dt>AppName</dt>\n",
              "                <dd><code>RDD</code></dd>\n",
              "            </dl>\n",
              "        </div>\n",
              "        \n",
              "            </div>\n",
              "        "
            ]
          },
          "metadata": {},
          "execution_count": 3
        }
      ]
    },
    {
      "cell_type": "code",
      "source": [
        "rdd = spark.sparkContext.textFile(\"/content/yk.txt\")\n",
        "rdd.collect()"
      ],
      "metadata": {
        "colab": {
          "base_uri": "https://localhost:8080/"
        },
        "id": "uaJqEG9cxml_",
        "outputId": "198f37e8-6fb7-4ca9-e401-e33e22a188d6"
      },
      "execution_count": null,
      "outputs": [
        {
          "output_type": "execute_result",
          "data": {
            "text/plain": [
              "['A Journey By Train Composition : A journey is an exciting experience to everybody. ',\n",
              " 'It provides a student with a relief from the routine works. ',\n",
              " 'So, a journey is more attractive to a student.A journey by train is especially very pleasant and enjoyable to me. ',\n",
              " 'A few days ago I made a journey by train from Dhaka to Chittagong.',\n",
              " 'Occasion: During the last vacation one of my friends requested me to attend his sister’s marriage ceremony at Chittagong. ',\n",
              " 'Our relation is so deep that I could not regret the invitation . On top of that, it was an opportunity to make a train journey. ',\n",
              " 'So, I gladly accepted the invitation.',\n",
              " 'Description of the journey: On the fixed day we reached the Kamalapur station at 7 a.m. ',\n",
              " 'The station was very crowded. Somehow we managed to buy our tickets. With great difficulty we got into the train. ',\n",
              " 'After a few minutes the guard blew the whistle and the train began to move on. I heaved a sigh of relief. ',\n",
              " 'A gentle breeze entered the compartment. I felt fresh and cold. This helped my mind to enjoy the whole journey.',\n",
              " 'Scenery enjoyed: I kept looking outside-through the window. The train was passing through the green fields. ',\n",
              " 'Dew drops on green grasses were glittering like pearls, trees and houses seemed to run behind. ',\n",
              " 'We saw the farmers working in the fields.Cattle were grazing here and there. The train stopped at a few big stations.',\n",
              " 'We bought boiled eggs, bananas, magazines etc. from the hawkers. When the train started from Feni station, I saw the hills of Chittagong. ',\n",
              " 'On the right, I saw the vast sheet of water of the Bay of Bengal. Gradually the sun was setting in the western sky. ',\n",
              " 'The golden rays of the declining sun fell on the water. The whole water of the Bay of Bengal turned reddish. ',\n",
              " 'This scenery was too much charming to give my mind into another fields. All these pleased me.',\n",
              " 'Destination: In the midst of my reverie the train reached Chittagong at 5 p.m. We got down from the train and met my friend. ',\n",
              " 'He was there to welcome us.we safely reached my friend’s house.',\n",
              " 'Conclusion: It was the most pleasant journey in my life. I enjoyed it so much that the memory of the journey will remain ever fresh in my heart.']"
            ]
          },
          "metadata": {},
          "execution_count": 66
        }
      ]
    },
    {
      "cell_type": "code",
      "source": [
        "rdd2 = rdd.flatMap(lambda x: x.split(\" \"))\n",
        "rdd2.take(20)"
      ],
      "metadata": {
        "id": "69EcumhAyKoo",
        "colab": {
          "base_uri": "https://localhost:8080/"
        },
        "outputId": "535df175-fb5d-477d-b74a-3b0350b64851"
      },
      "execution_count": null,
      "outputs": [
        {
          "output_type": "execute_result",
          "data": {
            "text/plain": [
              "['A',\n",
              " 'Journey',\n",
              " 'By',\n",
              " 'Train',\n",
              " 'Composition',\n",
              " ':',\n",
              " 'A',\n",
              " 'journey',\n",
              " 'is',\n",
              " 'an',\n",
              " 'exciting',\n",
              " 'experience',\n",
              " 'to',\n",
              " 'everybody.',\n",
              " '',\n",
              " 'It',\n",
              " 'provides',\n",
              " 'a',\n",
              " 'student',\n",
              " 'with']"
            ]
          },
          "metadata": {},
          "execution_count": 55
        }
      ]
    },
    {
      "cell_type": "code",
      "source": [
        "rdd3 = rdd2.map(lambda x: (x,1))\n",
        "rdd3.take(10)"
      ],
      "metadata": {
        "id": "l3raYrqzysvM",
        "colab": {
          "base_uri": "https://localhost:8080/"
        },
        "outputId": "3b46eaf2-6655-45b1-9281-35774ed9d108"
      },
      "execution_count": null,
      "outputs": [
        {
          "output_type": "execute_result",
          "data": {
            "text/plain": [
              "[('A', 1),\n",
              " ('Journey', 1),\n",
              " ('By', 1),\n",
              " ('Train', 1),\n",
              " ('Composition', 1),\n",
              " (':', 1),\n",
              " ('A', 1),\n",
              " ('journey', 1),\n",
              " ('is', 1),\n",
              " ('an', 1)]"
            ]
          },
          "metadata": {},
          "execution_count": 53
        }
      ]
    },
    {
      "cell_type": "code",
      "source": [
        "rdd4 = rdd3.reduceByKey(lambda a,b:a+b)\n",
        "rdd4.take(10)"
      ],
      "metadata": {
        "id": "XuEXtQwtzCFo",
        "colab": {
          "base_uri": "https://localhost:8080/"
        },
        "outputId": "9d63af88-0027-4f2e-b250-a10f4e3f2017"
      },
      "execution_count": null,
      "outputs": [
        {
          "output_type": "execute_result",
          "data": {
            "text/plain": [
              "[('A', 3),\n",
              " ('Journey', 1),\n",
              " ('By', 1),\n",
              " ('Train', 1),\n",
              " ('Composition', 1),\n",
              " (':', 1),\n",
              " ('journey', 4),\n",
              " ('is', 4),\n",
              " ('an', 2),\n",
              " ('exciting', 1)]"
            ]
          },
          "metadata": {},
          "execution_count": 52
        }
      ]
    },
    {
      "cell_type": "code",
      "source": [
        "rdd5 = rdd4.map(lambda x: (x[0], x[1])).sortByKey()\n",
        "rdd5.take(10)"
      ],
      "metadata": {
        "id": "N_4-8Mnk0tPT",
        "colab": {
          "base_uri": "https://localhost:8080/"
        },
        "outputId": "6d54c17b-0e6a-4149-c786-50cdeb6f785b"
      },
      "execution_count": null,
      "outputs": [
        {
          "output_type": "execute_result",
          "data": {
            "text/plain": [
              "[('', 6),\n",
              " ('.', 1),\n",
              " ('7', 1),\n",
              " (':', 1),\n",
              " ('A', 3),\n",
              " ('By', 1),\n",
              " ('Chittagong.', 2),\n",
              " ('Composition', 1),\n",
              " ('Description', 1),\n",
              " ('Dhaka', 1)]"
            ]
          },
          "metadata": {},
          "execution_count": 57
        }
      ]
    },
    {
      "cell_type": "code",
      "source": [
        "#id: 193-15-1071\n",
        "rdd6 = rdd5.repartition(7)  #using 1 doesn't make any sense\n",
        "print(\"Number of Partitions: \"+ str(rdd6.getNumPartitions()))"
      ],
      "metadata": {
        "colab": {
          "base_uri": "https://localhost:8080/"
        },
        "id": "zOKEQddgEnsL",
        "outputId": "6d20303a-fa62-4a78-e779-0d8c97e5fc7e"
      },
      "execution_count": null,
      "outputs": [
        {
          "output_type": "stream",
          "name": "stdout",
          "text": [
            "Number of Partitions: 7\n"
          ]
        }
      ]
    },
    {
      "cell_type": "code",
      "source": [
        "rdd6.saveAsTextFile(\"/content/export\")"
      ],
      "metadata": {
        "id": "jVyMapoC34Q1"
      },
      "execution_count": null,
      "outputs": []
    }
  ]
}