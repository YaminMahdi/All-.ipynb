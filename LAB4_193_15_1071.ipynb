{
  "nbformat": 4,
  "nbformat_minor": 0,
  "metadata": {
    "colab": {
      "provenance": [],
      "authorship_tag": "ABX9TyOqm7SMSXGO35hmlohKtqqb",
      "include_colab_link": true
    },
    "kernelspec": {
      "name": "python3",
      "display_name": "Python 3"
    },
    "language_info": {
      "name": "python"
    }
  },
  "cells": [
    {
      "cell_type": "markdown",
      "metadata": {
        "id": "view-in-github",
        "colab_type": "text"
      },
      "source": [
        "<a href=\"https://colab.research.google.com/github/YaminMahdi/All-.ipynb/blob/master/LAB4_193_15_1071.ipynb\" target=\"_parent\"><img src=\"https://colab.research.google.com/assets/colab-badge.svg\" alt=\"Open In Colab\"/></a>"
      ]
    },
    {
      "cell_type": "code",
      "execution_count": 3,
      "metadata": {
        "colab": {
          "base_uri": "https://localhost:8080/"
        },
        "id": "O6cmpzYILp_E",
        "outputId": "77d21a19-29e6-400b-8630-d3e5edc6f80e"
      },
      "outputs": [
        {
          "output_type": "stream",
          "name": "stdout",
          "text": [
            "\r0% [Working]\r            \rHit:1 https://cloud.r-project.org/bin/linux/ubuntu bionic-cran40/ InRelease\n",
            "\r0% [Connecting to archive.ubuntu.com (91.189.91.39)] [Connecting to security.ub\r                                                                               \rIgn:2 https://developer.download.nvidia.com/compute/machine-learning/repos/ubuntu1804/x86_64  InRelease\n",
            "\r0% [Connected to archive.ubuntu.com (91.189.91.39)] [Connecting to security.ubu\r0% [1 InRelease gpgv 3,626 B] [Waiting for headers] [Connecting to security.ubu\r                                                                               \rHit:3 https://developer.download.nvidia.com/compute/cuda/repos/ubuntu1804/x86_64  InRelease\n",
            "\r0% [1 InRelease gpgv 3,626 B] [Waiting for headers] [Connecting to security.ubu\r                                                                               \rHit:4 https://developer.download.nvidia.com/compute/machine-learning/repos/ubuntu1804/x86_64  Release\n",
            "Hit:5 http://archive.ubuntu.com/ubuntu bionic InRelease\n",
            "Hit:6 http://archive.ubuntu.com/ubuntu bionic-updates InRelease\n",
            "Hit:7 http://security.ubuntu.com/ubuntu bionic-security InRelease\n",
            "Hit:8 http://archive.ubuntu.com/ubuntu bionic-backports InRelease\n",
            "Hit:9 http://ppa.launchpad.net/c2d4u.team/c2d4u4.0+/ubuntu bionic InRelease\n",
            "Hit:11 http://ppa.launchpad.net/cran/libgit2/ubuntu bionic InRelease\n",
            "Hit:12 http://ppa.launchpad.net/deadsnakes/ppa/ubuntu bionic InRelease\n",
            "Hit:13 http://ppa.launchpad.net/graphics-drivers/ppa/ubuntu bionic InRelease\n",
            "Reading package lists... Done\n",
            "Downloading...\n",
            "From: https://drive.google.com/uc?id=1HFIClmLVILw851oU3n-hAz3zXkcMZK-I\n",
            "To: /content/spark-3.1.2-bin-hadoop3.2_by_yk.tgz\n",
            "100% 229M/229M [00:00<00:00, 290MB/s]\n"
          ]
        }
      ],
      "source": [
        "!apt-get update\n",
        "!apt-get install openjdk-8-jdk-headless -qq > /dev/null\n",
        "!pip install -q gdown && gdown --fuzzy https://drive.google.com/file/d/1HFIClmLVILw851oU3n-hAz3zXkcMZK-I/view      \n",
        "!tar xf spark-3.1.2-bin-hadoop3.2_by_yk.tgz    \n",
        "!pip install -q findspark"
      ]
    },
    {
      "cell_type": "code",
      "source": [
        "import os\n",
        "os.environ[\"JAVA_HOME\"] = \"/usr/lib/jvm/java-8-openjdk-amd64\"\n",
        "os.environ[\"SPARK_HOME\"] = \"/content/spark-3.1.2-bin-hadoop3.2\""
      ],
      "metadata": {
        "id": "Ng7RmamtL0gw"
      },
      "execution_count": 4,
      "outputs": []
    },
    {
      "cell_type": "code",
      "source": [
        "import findspark\n",
        "findspark.init()\n",
        "from pyspark.sql import SparkSession\n",
        "spark = SparkSession.builder.master(\"local[1]\").appName(\"RDD\").getOrCreate()\n",
        "spark"
      ],
      "metadata": {
        "colab": {
          "base_uri": "https://localhost:8080/",
          "height": 219
        },
        "id": "04t6kk5g6_Jh",
        "outputId": "de2b0120-7433-44f6-c9df-036c1c716ced"
      },
      "execution_count": 5,
      "outputs": [
        {
          "output_type": "execute_result",
          "data": {
            "text/plain": [
              "<pyspark.sql.session.SparkSession at 0x7fca66b16d90>"
            ],
            "text/html": [
              "\n",
              "            <div>\n",
              "                <p><b>SparkSession - in-memory</b></p>\n",
              "                \n",
              "        <div>\n",
              "            <p><b>SparkContext</b></p>\n",
              "\n",
              "            <p><a href=\"http://dd3723d6b3e4:4040\">Spark UI</a></p>\n",
              "\n",
              "            <dl>\n",
              "              <dt>Version</dt>\n",
              "                <dd><code>v3.1.2</code></dd>\n",
              "              <dt>Master</dt>\n",
              "                <dd><code>local[1]</code></dd>\n",
              "              <dt>AppName</dt>\n",
              "                <dd><code>RDD</code></dd>\n",
              "            </dl>\n",
              "        </div>\n",
              "        \n",
              "            </div>\n",
              "        "
            ]
          },
          "metadata": {},
          "execution_count": 5
        }
      ]
    },
    {
      "cell_type": "code",
      "source": [
        "!wget -q https://raw.githubusercontent.com/YaminMahdi/All-.ipynb/master/Linear_regression_dataset.csv\n",
        "df = spark.read.csv(\"/content/Linear_regression_dataset.csv\", header = True, inferSchema = True)\n",
        "df.show(5)"
      ],
      "metadata": {
        "colab": {
          "base_uri": "https://localhost:8080/"
        },
        "id": "BE_FG9yS6C4t",
        "outputId": "80eeb8c6-feb1-4956-93a7-9d4b24aef0d3"
      },
      "execution_count": 29,
      "outputs": [
        {
          "output_type": "stream",
          "name": "stdout",
          "text": [
            "+-----+-----+-----+-----+-----+------+\n",
            "|var_1|var_2|var_3|var_4|var_5|output|\n",
            "+-----+-----+-----+-----+-----+------+\n",
            "|  734|  688|   81|0.328|0.259| 0.418|\n",
            "|  700|  600|   94| 0.32|0.247| 0.389|\n",
            "|  712|  705|   93|0.311|0.247| 0.417|\n",
            "|  734|  806|   69|0.315| 0.26| 0.415|\n",
            "|  613|  759|   61|0.302| 0.24| 0.378|\n",
            "+-----+-----+-----+-----+-----+------+\n",
            "only showing top 5 rows\n",
            "\n"
          ]
        }
      ]
    },
    {
      "cell_type": "code",
      "source": [
        "from pyspark.sql.functions import corr\n",
        "df.select(corr('var_1','output')).show()"
      ],
      "metadata": {
        "colab": {
          "base_uri": "https://localhost:8080/"
        },
        "id": "S-etDfLQEn1U",
        "outputId": "9f6b502a-b33a-4113-83c1-3b25fab2d75b"
      },
      "execution_count": 30,
      "outputs": [
        {
          "output_type": "stream",
          "name": "stdout",
          "text": [
            "+-------------------+\n",
            "|corr(var_1, output)|\n",
            "+-------------------+\n",
            "| 0.9187399607627283|\n",
            "+-------------------+\n",
            "\n"
          ]
        }
      ]
    },
    {
      "cell_type": "code",
      "source": [
        "df.select(corr('var_1', 'var_2')).show()\n",
        "df.select(corr('var_2', 'output')).show()\n"
      ],
      "metadata": {
        "colab": {
          "base_uri": "https://localhost:8080/"
        },
        "id": "quU7_o-3EsSq",
        "outputId": "9a15ea11-d047-4f42-cce6-c5c24435c35e"
      },
      "execution_count": 31,
      "outputs": [
        {
          "output_type": "stream",
          "name": "stdout",
          "text": [
            "+------------------+\n",
            "|corr(var_1, var_2)|\n",
            "+------------------+\n",
            "|0.3801386662491575|\n",
            "+------------------+\n",
            "\n",
            "+-------------------+\n",
            "|corr(var_2, output)|\n",
            "+-------------------+\n",
            "|0.43652698913681093|\n",
            "+-------------------+\n",
            "\n"
          ]
        }
      ]
    },
    {
      "cell_type": "code",
      "source": [
        "df.printSchema()"
      ],
      "metadata": {
        "colab": {
          "base_uri": "https://localhost:8080/"
        },
        "id": "FPGJo68K6ZmY",
        "outputId": "3a380563-fdf5-4acf-9e90-da380b18b77f"
      },
      "execution_count": 15,
      "outputs": [
        {
          "output_type": "stream",
          "name": "stdout",
          "text": [
            "root\n",
            " |-- var_1: integer (nullable = true)\n",
            " |-- var_2: integer (nullable = true)\n",
            " |-- var_3: integer (nullable = true)\n",
            " |-- var_4: double (nullable = true)\n",
            " |-- var_5: double (nullable = true)\n",
            " |-- output: double (nullable = true)\n",
            "\n"
          ]
        }
      ]
    },
    {
      "cell_type": "code",
      "source": [
        "from pyspark.ml.feature import VectorAssembler\n",
        "vec_assembler = VectorAssembler(inputCols= ['var_1', 'var_2', 'var_3', 'var_4', 'var_5'], outputCol=\"features\")\n",
        "features_df = vec_assembler.transform(df)\n",
        "features_df.show(5, truncate = False)"
      ],
      "metadata": {
        "colab": {
          "base_uri": "https://localhost:8080/"
        },
        "id": "R4EAu6Gx8hE7",
        "outputId": "62aa9720-65c9-427d-a6ef-2a0392a31b15"
      },
      "execution_count": 8,
      "outputs": [
        {
          "output_type": "stream",
          "name": "stdout",
          "text": [
            "+-----+-----+-----+-----+-----+------+------------------------------+\n",
            "|var_1|var_2|var_3|var_4|var_5|output|features                      |\n",
            "+-----+-----+-----+-----+-----+------+------------------------------+\n",
            "|734  |688  |81   |0.328|0.259|0.418 |[734.0,688.0,81.0,0.328,0.259]|\n",
            "|700  |600  |94   |0.32 |0.247|0.389 |[700.0,600.0,94.0,0.32,0.247] |\n",
            "|712  |705  |93   |0.311|0.247|0.417 |[712.0,705.0,93.0,0.311,0.247]|\n",
            "|734  |806  |69   |0.315|0.26 |0.415 |[734.0,806.0,69.0,0.315,0.26] |\n",
            "|613  |759  |61   |0.302|0.24 |0.378 |[613.0,759.0,61.0,0.302,0.24] |\n",
            "+-----+-----+-----+-----+-----+------+------------------------------+\n",
            "only showing top 5 rows\n",
            "\n"
          ]
        }
      ]
    },
    {
      "cell_type": "code",
      "source": [
        "model_df = features_df.select('features', 'output')\n",
        "model_df.show(5, truncate= False)"
      ],
      "metadata": {
        "colab": {
          "base_uri": "https://localhost:8080/"
        },
        "id": "hw0wBSP89KIJ",
        "outputId": "34677292-b34e-4747-b77f-747d87ff9fab"
      },
      "execution_count": 9,
      "outputs": [
        {
          "output_type": "stream",
          "name": "stdout",
          "text": [
            "+------------------------------+------+\n",
            "|features                      |output|\n",
            "+------------------------------+------+\n",
            "|[734.0,688.0,81.0,0.328,0.259]|0.418 |\n",
            "|[700.0,600.0,94.0,0.32,0.247] |0.389 |\n",
            "|[712.0,705.0,93.0,0.311,0.247]|0.417 |\n",
            "|[734.0,806.0,69.0,0.315,0.26] |0.415 |\n",
            "|[613.0,759.0,61.0,0.302,0.24] |0.378 |\n",
            "+------------------------------+------+\n",
            "only showing top 5 rows\n",
            "\n"
          ]
        }
      ]
    },
    {
      "cell_type": "code",
      "source": [
        "train_df, test_df = model_df.randomSplit([.8, .2])\n",
        "print(train_df.count(), len(train_df.columns))"
      ],
      "metadata": {
        "colab": {
          "base_uri": "https://localhost:8080/"
        },
        "id": "C2aJVUk0-KEi",
        "outputId": "11a53b54-0571-4419-d760-a07ef67c8882"
      },
      "execution_count": 10,
      "outputs": [
        {
          "output_type": "stream",
          "name": "stdout",
          "text": [
            "989 2\n"
          ]
        }
      ]
    },
    {
      "cell_type": "code",
      "source": [
        "train_df.describe().show()\n",
        "test_df.describe().show()"
      ],
      "metadata": {
        "colab": {
          "base_uri": "https://localhost:8080/"
        },
        "id": "Q3rIonoD-Mdi",
        "outputId": "cb946278-881e-47aa-dc50-1e9c13674100"
      },
      "execution_count": 11,
      "outputs": [
        {
          "output_type": "stream",
          "name": "stdout",
          "text": [
            "+-------+-------------------+\n",
            "|summary|             output|\n",
            "+-------+-------------------+\n",
            "|  count|                989|\n",
            "|   mean|0.39703640040444826|\n",
            "| stddev|0.03338429000920117|\n",
            "|    min|              0.301|\n",
            "|    max|              0.491|\n",
            "+-------+-------------------+\n",
            "\n",
            "+-------+-------------------+\n",
            "|summary|             output|\n",
            "+-------+-------------------+\n",
            "|  count|                243|\n",
            "|   mean| 0.3985843621399177|\n",
            "| stddev|0.03282353397405582|\n",
            "|    min|              0.315|\n",
            "|    max|              0.485|\n",
            "+-------+-------------------+\n",
            "\n"
          ]
        }
      ]
    },
    {
      "cell_type": "code",
      "source": [
        "from pyspark.ml.regression import LinearRegression\n",
        "lin_reg= LinearRegression(labelCol='output')"
      ],
      "metadata": {
        "id": "_QZ43LqP-lk6"
      },
      "execution_count": 16,
      "outputs": []
    },
    {
      "cell_type": "code",
      "source": [
        "lin1 = lin_reg.fit(train_df)\n",
        "print(lin1.intercept)\n",
        "print(lin1.coefficients)"
      ],
      "metadata": {
        "colab": {
          "base_uri": "https://localhost:8080/"
        },
        "id": "OH4R-KPZ_QRI",
        "outputId": "18516b5c-8be8-4db6-dae6-5598c9d18def"
      },
      "execution_count": 20,
      "outputs": [
        {
          "output_type": "stream",
          "name": "stdout",
          "text": [
            "0.1769695876577605\n",
            "[0.000332570940544152,5.490620608029893e-05,0.00018615686578267497,-0.6204492923934785,0.5035517467324592]\n"
          ]
        }
      ]
    },
    {
      "cell_type": "code",
      "source": [
        "train_pred = lin1.evaluate(train_df)\n",
        "train_pred.meanSquaredError"
      ],
      "metadata": {
        "colab": {
          "base_uri": "https://localhost:8080/"
        },
        "id": "PhHkMDj3_aGq",
        "outputId": "f621695e-fca2-4f64-ce29-063910157fd0"
      },
      "execution_count": 24,
      "outputs": [
        {
          "output_type": "execute_result",
          "data": {
            "text/plain": [
              "0.00014806301891363794"
            ]
          },
          "metadata": {},
          "execution_count": 24
        }
      ]
    },
    {
      "cell_type": "code",
      "source": [
        "test_pred = lin1.evaluate(test_df)\n",
        "test_pred.meanSquaredError\n",
        "#test_pred.rootMeanSquaredError"
      ],
      "metadata": {
        "colab": {
          "base_uri": "https://localhost:8080/"
        },
        "id": "cFgc5YH-B2JQ",
        "outputId": "c6829051-2bb5-4dc8-9226-1fce063c7a2f"
      },
      "execution_count": 27,
      "outputs": [
        {
          "output_type": "execute_result",
          "data": {
            "text/plain": [
              "0.00013101015951456007"
            ]
          },
          "metadata": {},
          "execution_count": 27
        }
      ]
    }
  ]
}