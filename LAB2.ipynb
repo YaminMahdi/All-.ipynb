{
  "nbformat": 4,
  "nbformat_minor": 0,
  "metadata": {
    "colab": {
      "provenance": [],
      "authorship_tag": "ABX9TyPJGFN2L9NhQYA0BZhXdHOi",
      "include_colab_link": true
    },
    "kernelspec": {
      "name": "python3",
      "display_name": "Python 3"
    },
    "language_info": {
      "name": "python"
    }
  },
  "cells": [
    {
      "cell_type": "markdown",
      "metadata": {
        "id": "view-in-github",
        "colab_type": "text"
      },
      "source": [
        "<a href=\"https://colab.research.google.com/github/YaminMahdi/All-.ipynb/blob/master/LAB2.ipynb\" target=\"_parent\"><img src=\"https://colab.research.google.com/assets/colab-badge.svg\" alt=\"Open In Colab\"/></a>"
      ]
    },
    {
      "cell_type": "code",
      "execution_count": 1,
      "metadata": {
        "colab": {
          "base_uri": "https://localhost:8080/"
        },
        "id": "8umG_dECvcQ_",
        "outputId": "8d729b3b-a847-4deb-fc59-1c74eac32be0"
      },
      "outputs": [
        {
          "output_type": "stream",
          "name": "stdout",
          "text": [
            "Get:1 https://cloud.r-project.org/bin/linux/ubuntu bionic-cran40/ InRelease [3,626 B]\n",
            "Get:2 http://security.ubuntu.com/ubuntu bionic-security InRelease [88.7 kB]\n",
            "Get:3 http://ppa.launchpad.net/c2d4u.team/c2d4u4.0+/ubuntu bionic InRelease [15.9 kB]\n",
            "Ign:4 https://developer.download.nvidia.com/compute/machine-learning/repos/ubuntu1804/x86_64  InRelease\n",
            "Hit:5 http://archive.ubuntu.com/ubuntu bionic InRelease\n",
            "Hit:6 https://developer.download.nvidia.com/compute/cuda/repos/ubuntu1804/x86_64  InRelease\n",
            "Hit:7 https://developer.download.nvidia.com/compute/machine-learning/repos/ubuntu1804/x86_64  Release\n",
            "Get:8 http://archive.ubuntu.com/ubuntu bionic-updates InRelease [88.7 kB]\n",
            "Hit:9 http://ppa.launchpad.net/cran/libgit2/ubuntu bionic InRelease\n",
            "Get:10 https://cloud.r-project.org/bin/linux/ubuntu bionic-cran40/ Packages [91.7 kB]\n",
            "Get:11 http://ppa.launchpad.net/deadsnakes/ppa/ubuntu bionic InRelease [15.9 kB]\n",
            "Get:12 http://archive.ubuntu.com/ubuntu bionic-backports InRelease [74.6 kB]\n",
            "Hit:13 http://ppa.launchpad.net/graphics-drivers/ppa/ubuntu bionic InRelease\n",
            "Get:15 http://ppa.launchpad.net/c2d4u.team/c2d4u4.0+/ubuntu bionic/main Sources [2,099 kB]\n",
            "Get:16 http://security.ubuntu.com/ubuntu bionic-security/universe amd64 Packages [1,540 kB]\n",
            "Get:17 http://archive.ubuntu.com/ubuntu bionic-updates/main amd64 Packages [3,396 kB]\n",
            "Get:18 http://security.ubuntu.com/ubuntu bionic-security/main amd64 Packages [2,965 kB]\n",
            "Get:19 http://security.ubuntu.com/ubuntu bionic-security/restricted amd64 Packages [1,131 kB]\n",
            "Get:20 http://ppa.launchpad.net/c2d4u.team/c2d4u4.0+/ubuntu bionic/main amd64 Packages [1,076 kB]\n",
            "Get:21 http://archive.ubuntu.com/ubuntu bionic-updates/restricted amd64 Packages [1,172 kB]\n",
            "Get:22 http://ppa.launchpad.net/deadsnakes/ppa/ubuntu bionic/main amd64 Packages [45.2 kB]\n",
            "Fetched 13.8 MB in 4s (3,817 kB/s)\n",
            "Reading package lists... Done\n"
          ]
        }
      ],
      "source": [
        "!apt-get update\n",
        "!apt-get install openjdk-8-jdk-headless -qq > /dev/null\n",
        "!wget -q http://archive.apache.org/dist/spark/spark-3.1.1/spark-3.1.1-bin-hadoop3.2.tgz\n",
        "!tar xf spark-3.1.1-bin-hadoop3.2.tgz\n",
        "!pip install -q findspark"
      ]
    },
    {
      "cell_type": "code",
      "source": [
        "import os\n",
        "os.environ[\"JAVA_HOME\"] = \"/usr/lib/jvm/java-8-openjdk-amd64\"\n",
        "os.environ[\"SPARK_HOME\"] = \"/content/spark-3.1.1-bin-hadoop3.2\""
      ],
      "metadata": {
        "id": "2v0q1VMlvfDK"
      },
      "execution_count": 2,
      "outputs": []
    },
    {
      "cell_type": "code",
      "source": [
        "import findspark\n",
        "findspark.init()\n",
        "from pyspark.sql import SparkSession\n",
        "spark = SparkSession.builder.master(\"local\").appName(\"Spark\").getOrCreate()\n",
        "spark"
      ],
      "metadata": {
        "colab": {
          "base_uri": "https://localhost:8080/",
          "height": 219
        },
        "id": "zB8srGB1vg-j",
        "outputId": "1e48fc44-9706-424b-b272-97bdbe23df36"
      },
      "execution_count": 3,
      "outputs": [
        {
          "output_type": "execute_result",
          "data": {
            "text/plain": [
              "<pyspark.sql.session.SparkSession at 0x7f9e4c6e36d0>"
            ],
            "text/html": [
              "\n",
              "            <div>\n",
              "                <p><b>SparkSession - in-memory</b></p>\n",
              "                \n",
              "        <div>\n",
              "            <p><b>SparkContext</b></p>\n",
              "\n",
              "            <p><a href=\"http://e8576cd32f1d:4040\">Spark UI</a></p>\n",
              "\n",
              "            <dl>\n",
              "              <dt>Version</dt>\n",
              "                <dd><code>v3.1.1</code></dd>\n",
              "              <dt>Master</dt>\n",
              "                <dd><code>local</code></dd>\n",
              "              <dt>AppName</dt>\n",
              "                <dd><code>Spark</code></dd>\n",
              "            </dl>\n",
              "        </div>\n",
              "        \n",
              "            </div>\n",
              "        "
            ]
          },
          "metadata": {},
          "execution_count": 3
        }
      ]
    },
    {
      "cell_type": "code",
      "source": [
        "from pyspark.sql import functions\n",
        "print(dir(functions))"
      ],
      "metadata": {
        "colab": {
          "base_uri": "https://localhost:8080/"
        },
        "id": "8Q3zbktVwFqx",
        "outputId": "3f99eb18-0f47-4569-e368-e728788bff01"
      },
      "execution_count": 4,
      "outputs": [
        {
          "output_type": "stream",
          "name": "stdout",
          "text": [
            "['Column', 'DataFrame', 'DataType', 'PandasUDFType', 'PythonEvalType', 'SparkContext', 'StringType', 'UserDefinedFunction', '__builtins__', '__cached__', '__doc__', '__file__', '__loader__', '__name__', '__package__', '__spec__', '_create_column_from_literal', '_create_lambda', '_create_udf', '_get_get_jvm_function', '_get_lambda_parameters', '_invoke_binary_math_function', '_invoke_function', '_invoke_function_over_column', '_invoke_higher_order_function', '_options_to_str', '_test', '_to_java_column', '_to_seq', '_unresolved_named_lambda_variable', 'abs', 'acos', 'acosh', 'add_months', 'aggregate', 'approxCountDistinct', 'approx_count_distinct', 'array', 'array_contains', 'array_distinct', 'array_except', 'array_intersect', 'array_join', 'array_max', 'array_min', 'array_position', 'array_remove', 'array_repeat', 'array_sort', 'array_union', 'arrays_overlap', 'arrays_zip', 'asc', 'asc_nulls_first', 'asc_nulls_last', 'ascii', 'asin', 'asinh', 'assert_true', 'atan', 'atan2', 'atanh', 'avg', 'base64', 'bin', 'bitwiseNOT', 'broadcast', 'bround', 'bucket', 'cbrt', 'ceil', 'coalesce', 'col', 'collect_list', 'collect_set', 'column', 'concat', 'concat_ws', 'conv', 'corr', 'cos', 'cosh', 'count', 'countDistinct', 'covar_pop', 'covar_samp', 'crc32', 'create_map', 'cume_dist', 'current_date', 'current_timestamp', 'date_add', 'date_format', 'date_sub', 'date_trunc', 'datediff', 'dayofmonth', 'dayofweek', 'dayofyear', 'days', 'decode', 'degrees', 'dense_rank', 'desc', 'desc_nulls_first', 'desc_nulls_last', 'element_at', 'encode', 'exists', 'exp', 'explode', 'explode_outer', 'expm1', 'expr', 'factorial', 'filter', 'first', 'flatten', 'floor', 'forall', 'format_number', 'format_string', 'from_csv', 'from_json', 'from_unixtime', 'from_utc_timestamp', 'functools', 'get_json_object', 'greatest', 'grouping', 'grouping_id', 'hash', 'hex', 'hour', 'hours', 'hypot', 'initcap', 'input_file_name', 'instr', 'isnan', 'isnull', 'json_tuple', 'kurtosis', 'lag', 'last', 'last_day', 'lead', 'least', 'length', 'levenshtein', 'lit', 'locate', 'log', 'log10', 'log1p', 'log2', 'lower', 'lpad', 'ltrim', 'map_concat', 'map_entries', 'map_filter', 'map_from_arrays', 'map_from_entries', 'map_keys', 'map_values', 'map_zip_with', 'max', 'md5', 'mean', 'min', 'minute', 'monotonically_increasing_id', 'month', 'months', 'months_between', 'nanvl', 'next_day', 'nth_value', 'ntile', 'overlay', 'pandas_udf', 'percent_rank', 'percentile_approx', 'posexplode', 'posexplode_outer', 'pow', 'quarter', 'radians', 'raise_error', 'rand', 'randn', 'rank', 'regexp_extract', 'regexp_replace', 'repeat', 'reverse', 'rint', 'round', 'row_number', 'rpad', 'rtrim', 'schema_of_csv', 'schema_of_json', 'second', 'sequence', 'sha1', 'sha2', 'shiftLeft', 'shiftRight', 'shiftRightUnsigned', 'shuffle', 'signum', 'sin', 'since', 'sinh', 'size', 'skewness', 'slice', 'sort_array', 'soundex', 'spark_partition_id', 'split', 'sqrt', 'stddev', 'stddev_pop', 'stddev_samp', 'struct', 'substring', 'substring_index', 'sum', 'sumDistinct', 'sys', 'tan', 'tanh', 'timestamp_seconds', 'toDegrees', 'toRadians', 'to_csv', 'to_date', 'to_json', 'to_str', 'to_timestamp', 'to_utc_timestamp', 'transform', 'transform_keys', 'transform_values', 'translate', 'trim', 'trunc', 'udf', 'unbase64', 'unhex', 'unix_timestamp', 'upper', 'var_pop', 'var_samp', 'variance', 'warnings', 'weekofyear', 'when', 'window', 'xxhash64', 'year', 'years', 'zip_with']\n"
          ]
        }
      ]
    },
    {
      "cell_type": "code",
      "source": [
        "from pyspark.sql.functions import lit,lower, upper,concat,substring\n",
        "!wget https://jacobceles.github.io/knowledge_repo/colab_and_pyspark/cars.csv\n",
        "\n",
        "\n",
        "df = spark.read.csv('cars.csv', header=True, sep=\";\", inferSchema=True)\n",
        "df.show(10)"
      ],
      "metadata": {
        "colab": {
          "base_uri": "https://localhost:8080/"
        },
        "id": "bi_L_cs2wg-Q",
        "outputId": "706387b4-642a-42f7-b56a-de6c6d754878"
      },
      "execution_count": 13,
      "outputs": [
        {
          "output_type": "stream",
          "name": "stdout",
          "text": [
            "--2022-09-08 06:29:49--  https://jacobceles.github.io/knowledge_repo/colab_and_pyspark/cars.csv\n",
            "Resolving jacobceles.github.io (jacobceles.github.io)... 185.199.108.153, 185.199.109.153, 185.199.110.153, ...\n",
            "Connecting to jacobceles.github.io (jacobceles.github.io)|185.199.108.153|:443... connected.\n",
            "HTTP request sent, awaiting response... 301 Moved Permanently\n",
            "Location: https://jacobcelestine.com/knowledge_repo/colab_and_pyspark/cars.csv [following]\n",
            "--2022-09-08 06:29:49--  https://jacobcelestine.com/knowledge_repo/colab_and_pyspark/cars.csv\n",
            "Resolving jacobcelestine.com (jacobcelestine.com)... 185.199.108.153, 185.199.109.153, 185.199.110.153, ...\n",
            "Connecting to jacobcelestine.com (jacobcelestine.com)|185.199.108.153|:443... connected.\n",
            "HTTP request sent, awaiting response... 200 OK\n",
            "Length: 22608 (22K) [text/csv]\n",
            "Saving to: ‘cars.csv.4’\n",
            "\n",
            "\rcars.csv.4            0%[                    ]       0  --.-KB/s               \rcars.csv.4          100%[===================>]  22.08K  --.-KB/s    in 0.002s  \n",
            "\n",
            "2022-09-08 06:29:49 (9.25 MB/s) - ‘cars.csv.4’ saved [22608/22608]\n",
            "\n",
            "+--------------------+----+---------+------------+----------+------+------------+-----+------+\n",
            "|                 Car| MPG|Cylinders|Displacement|Horsepower|Weight|Acceleration|Model|Origin|\n",
            "+--------------------+----+---------+------------+----------+------+------------+-----+------+\n",
            "|Chevrolet Chevell...|18.0|        8|       307.0|     130.0|  3504|        12.0|   70|    US|\n",
            "|   Buick Skylark 320|15.0|        8|       350.0|     165.0|  3693|        11.5|   70|    US|\n",
            "|  Plymouth Satellite|18.0|        8|       318.0|     150.0|  3436|        11.0|   70|    US|\n",
            "|       AMC Rebel SST|16.0|        8|       304.0|     150.0|  3433|        12.0|   70|    US|\n",
            "|         Ford Torino|17.0|        8|       302.0|     140.0|  3449|        10.5|   70|    US|\n",
            "|    Ford Galaxie 500|15.0|        8|       429.0|     198.0|  4341|        10.0|   70|    US|\n",
            "|    Chevrolet Impala|14.0|        8|       454.0|     220.0|  4354|         9.0|   70|    US|\n",
            "|   Plymouth Fury iii|14.0|        8|       440.0|     215.0|  4312|         8.5|   70|    US|\n",
            "|    Pontiac Catalina|14.0|        8|       455.0|     225.0|  4425|        10.0|   70|    US|\n",
            "|  AMC Ambassador DPL|15.0|        8|       390.0|     190.0|  3850|         8.5|   70|    US|\n",
            "+--------------------+----+---------+------------+----------+------+------------+-----+------+\n",
            "only showing top 10 rows\n",
            "\n"
          ]
        }
      ]
    },
    {
      "cell_type": "code",
      "source": [
        "df.select(df.Car, lower(df.Car), upper(df.Car), substring(df.Car,1,4)).show()"
      ],
      "metadata": {
        "colab": {
          "base_uri": "https://localhost:8080/"
        },
        "id": "Y-w70fWdw9dr",
        "outputId": "d1c6a92b-2173-40ce-85e6-1c9e0f4823f8"
      },
      "execution_count": 14,
      "outputs": [
        {
          "output_type": "stream",
          "name": "stdout",
          "text": [
            "+--------------------+--------------------+--------------------+--------------------+\n",
            "|                 Car|          lower(Car)|          upper(Car)|substring(Car, 1, 4)|\n",
            "+--------------------+--------------------+--------------------+--------------------+\n",
            "|Chevrolet Chevell...|chevrolet chevell...|CHEVROLET CHEVELL...|                Chev|\n",
            "|   Buick Skylark 320|   buick skylark 320|   BUICK SKYLARK 320|                Buic|\n",
            "|  Plymouth Satellite|  plymouth satellite|  PLYMOUTH SATELLITE|                Plym|\n",
            "|       AMC Rebel SST|       amc rebel sst|       AMC REBEL SST|                AMC |\n",
            "|         Ford Torino|         ford torino|         FORD TORINO|                Ford|\n",
            "|    Ford Galaxie 500|    ford galaxie 500|    FORD GALAXIE 500|                Ford|\n",
            "|    Chevrolet Impala|    chevrolet impala|    CHEVROLET IMPALA|                Chev|\n",
            "|   Plymouth Fury iii|   plymouth fury iii|   PLYMOUTH FURY III|                Plym|\n",
            "|    Pontiac Catalina|    pontiac catalina|    PONTIAC CATALINA|                Pont|\n",
            "|  AMC Ambassador DPL|  amc ambassador dpl|  AMC AMBASSADOR DPL|                AMC |\n",
            "|Citroen DS-21 Pallas|citroen ds-21 pallas|CITROEN DS-21 PALLAS|                Citr|\n",
            "|Chevrolet Chevell...|chevrolet chevell...|CHEVROLET CHEVELL...|                Chev|\n",
            "|    Ford Torino (sw)|    ford torino (sw)|    FORD TORINO (SW)|                Ford|\n",
            "|Plymouth Satellit...|plymouth satellit...|PLYMOUTH SATELLIT...|                Plym|\n",
            "|  AMC Rebel SST (sw)|  amc rebel sst (sw)|  AMC REBEL SST (SW)|                AMC |\n",
            "| Dodge Challenger SE| dodge challenger se| DODGE CHALLENGER SE|                Dodg|\n",
            "|  Plymouth 'Cuda 340|  plymouth 'cuda 340|  PLYMOUTH 'CUDA 340|                Plym|\n",
            "|Ford Mustang Boss...|ford mustang boss...|FORD MUSTANG BOSS...|                Ford|\n",
            "|Chevrolet Monte C...|chevrolet monte c...|CHEVROLET MONTE C...|                Chev|\n",
            "|Buick Estate Wago...|buick estate wago...|BUICK ESTATE WAGO...|                Buic|\n",
            "+--------------------+--------------------+--------------------+--------------------+\n",
            "only showing top 20 rows\n",
            "\n"
          ]
        }
      ]
    },
    {
      "cell_type": "code",
      "source": [
        "df.select(df.Car, df.Model, concat(df.Car,lit(\" \"), df.Model)).alias(\"Car Model\").show(2, truncate =False)"
      ],
      "metadata": {
        "colab": {
          "base_uri": "https://localhost:8080/"
        },
        "id": "i4hFwtYMx63o",
        "outputId": "625ea7bd-8d56-4eaf-a4de-451b4950518c"
      },
      "execution_count": 25,
      "outputs": [
        {
          "output_type": "stream",
          "name": "stdout",
          "text": [
            "+-------------------------+-----+----------------------------+\n",
            "|Car                      |Model|concat(Car,  , Model)       |\n",
            "+-------------------------+-----+----------------------------+\n",
            "|Chevrolet Chevelle Malibu|70   |Chevrolet Chevelle Malibu 70|\n",
            "|Buick Skylark 320        |70   |Buick Skylark 320 70        |\n",
            "+-------------------------+-----+----------------------------+\n",
            "only showing top 2 rows\n",
            "\n"
          ]
        }
      ]
    },
    {
      "cell_type": "code",
      "source": [
        "from pyspark.sql.functions import min, max\n",
        "df.dtypes\n",
        "\n",
        "df.select(min(df.Weight), max(df.Weight)).show()\n",
        "df.select(min(df.Weight +lit(10)), max(df.Weight +lit(30))).show()"
      ],
      "metadata": {
        "colab": {
          "base_uri": "https://localhost:8080/"
        },
        "id": "wSTavvKByq_0",
        "outputId": "cbd77dce-bc25-4d03-f479-b0e8cba10cee"
      },
      "execution_count": 21,
      "outputs": [
        {
          "output_type": "stream",
          "name": "stdout",
          "text": [
            "+-----------+-----------+\n",
            "|min(Weight)|max(Weight)|\n",
            "+-----------+-----------+\n",
            "|       1613|       5140|\n",
            "+-----------+-----------+\n",
            "\n",
            "+------------------+------------------+\n",
            "|min((Weight + 10))|max((Weight + 30))|\n",
            "+------------------+------------------+\n",
            "|              1623|              5170|\n",
            "+------------------+------------------+\n",
            "\n"
          ]
        }
      ]
    },
    {
      "cell_type": "code",
      "source": [
        "def cal_age(date):\n",
        "  age = date\n",
        "  return age\n",
        "  \n",
        "from pyspark.sql.functions import to_date, to_timestamp\n",
        "df1 =spark.createDataFrame([(\"2022-09-08 12:39:69\",)], [\"DATE\"])\n",
        "df1.show()\n",
        "df1.printSchema()\n",
        "\n",
        "df1.select(df1.DATE, to_date(df1.DATE), to_timestamp(df1.DATE)).show()"
      ],
      "metadata": {
        "colab": {
          "base_uri": "https://localhost:8080/"
        },
        "id": "MsYklJOS0AK2",
        "outputId": "62ab14b0-aeaf-4cf0-a7b0-a04dce88680b"
      },
      "execution_count": 40,
      "outputs": [
        {
          "output_type": "stream",
          "name": "stdout",
          "text": [
            "+-------------------+\n",
            "|               DATE|\n",
            "+-------------------+\n",
            "|2022-09-08 12:39:69|\n",
            "+-------------------+\n",
            "\n",
            "root\n",
            " |-- DATE: string (nullable = true)\n",
            "\n",
            "+-------------------+-------------+------------------+\n",
            "|               DATE|to_date(DATE)|to_timestamp(DATE)|\n",
            "+-------------------+-------------+------------------+\n",
            "|2022-09-08 12:39:69|   2022-09-08|              null|\n",
            "+-------------------+-------------+------------------+\n",
            "\n"
          ]
        }
      ]
    },
    {
      "cell_type": "code",
      "source": [
        "car_name =spark.createDataFrame([[1, \"A\"],[2, \"f\"],[3, \"g\"],[4, \"g\",]], [\"id\", \"nm\"])\n",
        "car_pric =spark.createDataFrame([[1, \"12\"],[2, \"34\"],[3, \"54\"],[4, \"69\",]], [\"id\", \"pric\"])\n",
        "car_name.show()\n",
        "car_pric.show()\n",
        "car_name.join(car_pric, car_name.id == car_pric.id, \"inner\").select(car_name[\"id\"],car_name[\"nm\"],car_pric[\"pric\"]).show()\n",
        "\n",
        "# task\n",
        "#5 join opearetion (2 ta dataftrame)\n",
        "#age calculation"
      ],
      "metadata": {
        "colab": {
          "base_uri": "https://localhost:8080/"
        },
        "id": "l2qaCDzg1jBq",
        "outputId": "d3f21cc7-006b-4fe5-d38a-87b7c0c8319e"
      },
      "execution_count": 75,
      "outputs": [
        {
          "output_type": "stream",
          "name": "stdout",
          "text": [
            "+---+---+\n",
            "| id| nm|\n",
            "+---+---+\n",
            "|  1|  A|\n",
            "|  2|  f|\n",
            "|  3|  g|\n",
            "|  4|  g|\n",
            "+---+---+\n",
            "\n",
            "+---+----+\n",
            "| id|pric|\n",
            "+---+----+\n",
            "|  1|  12|\n",
            "|  2|  34|\n",
            "|  3|  54|\n",
            "|  4|  69|\n",
            "+---+----+\n",
            "\n",
            "+---+---+----+\n",
            "| id| nm|pric|\n",
            "+---+---+----+\n",
            "|  1|  A|  12|\n",
            "|  3|  g|  54|\n",
            "|  2|  f|  34|\n",
            "|  4|  g|  69|\n",
            "+---+---+----+\n",
            "\n"
          ]
        }
      ]
    },
    {
      "cell_type": "code",
      "source": [
        "\n",
        "df = spark.read.csv('cars.csv', header=True, sep=\";\", inferSchema=True)\n",
        "df.show(2)\n",
        "\n",
        "df.createOrReplaceTempView(\"tmp\")\n",
        "\n",
        "spark.sql(\"select * from tmp\").show()\n",
        "spark.sql(\"select Car, Model, Origin from tmp where Model == 80 and Origin == 'Japan'\").show()"
      ],
      "metadata": {
        "colab": {
          "base_uri": "https://localhost:8080/"
        },
        "id": "fYtRNtQ08eI0",
        "outputId": "e2e543fb-7f0e-4180-a41d-c6a84cc17146"
      },
      "execution_count": 71,
      "outputs": [
        {
          "output_type": "stream",
          "name": "stdout",
          "text": [
            "+--------------------+----+---------+------------+----------+------+------------+-----+------+\n",
            "|                 Car| MPG|Cylinders|Displacement|Horsepower|Weight|Acceleration|Model|Origin|\n",
            "+--------------------+----+---------+------------+----------+------+------------+-----+------+\n",
            "|Chevrolet Chevell...|18.0|        8|       307.0|     130.0|  3504|        12.0|   70|    US|\n",
            "|   Buick Skylark 320|15.0|        8|       350.0|     165.0|  3693|        11.5|   70|    US|\n",
            "+--------------------+----+---------+------------+----------+------+------------+-----+------+\n",
            "only showing top 2 rows\n",
            "\n",
            "+--------------------+----+---------+------------+----------+------+------------+-----+------+\n",
            "|                 Car| MPG|Cylinders|Displacement|Horsepower|Weight|Acceleration|Model|Origin|\n",
            "+--------------------+----+---------+------------+----------+------+------------+-----+------+\n",
            "|Chevrolet Chevell...|18.0|        8|       307.0|     130.0|  3504|        12.0|   70|    US|\n",
            "|   Buick Skylark 320|15.0|        8|       350.0|     165.0|  3693|        11.5|   70|    US|\n",
            "|  Plymouth Satellite|18.0|        8|       318.0|     150.0|  3436|        11.0|   70|    US|\n",
            "|       AMC Rebel SST|16.0|        8|       304.0|     150.0|  3433|        12.0|   70|    US|\n",
            "|         Ford Torino|17.0|        8|       302.0|     140.0|  3449|        10.5|   70|    US|\n",
            "|    Ford Galaxie 500|15.0|        8|       429.0|     198.0|  4341|        10.0|   70|    US|\n",
            "|    Chevrolet Impala|14.0|        8|       454.0|     220.0|  4354|         9.0|   70|    US|\n",
            "|   Plymouth Fury iii|14.0|        8|       440.0|     215.0|  4312|         8.5|   70|    US|\n",
            "|    Pontiac Catalina|14.0|        8|       455.0|     225.0|  4425|        10.0|   70|    US|\n",
            "|  AMC Ambassador DPL|15.0|        8|       390.0|     190.0|  3850|         8.5|   70|    US|\n",
            "|Citroen DS-21 Pallas| 0.0|        4|       133.0|     115.0|  3090|        17.5|   70|Europe|\n",
            "|Chevrolet Chevell...| 0.0|        8|       350.0|     165.0|  4142|        11.5|   70|    US|\n",
            "|    Ford Torino (sw)| 0.0|        8|       351.0|     153.0|  4034|        11.0|   70|    US|\n",
            "|Plymouth Satellit...| 0.0|        8|       383.0|     175.0|  4166|        10.5|   70|    US|\n",
            "|  AMC Rebel SST (sw)| 0.0|        8|       360.0|     175.0|  3850|        11.0|   70|    US|\n",
            "| Dodge Challenger SE|15.0|        8|       383.0|     170.0|  3563|        10.0|   70|    US|\n",
            "|  Plymouth 'Cuda 340|14.0|        8|       340.0|     160.0|  3609|         8.0|   70|    US|\n",
            "|Ford Mustang Boss...| 0.0|        8|       302.0|     140.0|  3353|         8.0|   70|    US|\n",
            "|Chevrolet Monte C...|15.0|        8|       400.0|     150.0|  3761|         9.5|   70|    US|\n",
            "|Buick Estate Wago...|14.0|        8|       455.0|     225.0|  3086|        10.0|   70|    US|\n",
            "+--------------------+----+---------+------------+----------+------+------------+-----+------+\n",
            "only showing top 20 rows\n",
            "\n",
            "+--------------------+-----+------+\n",
            "|                 Car|Model|Origin|\n",
            "+--------------------+-----+------+\n",
            "|Toyota Corolla Te...|   80| Japan|\n",
            "|          Datsun 310|   80| Japan|\n",
            "|Toyota Corolla Li...|   80| Japan|\n",
            "|           Mazda 626|   80| Japan|\n",
            "|Datsun 510 Hatchback|   80| Japan|\n",
            "|      Toyota Corolla|   80| Japan|\n",
            "|           Mazda GLC|   80| Japan|\n",
            "|          Datsun 210|   80| Japan|\n",
            "| Honda Civic 1500 gl|   80| Japan|\n",
            "|           Subaru DL|   80| Japan|\n",
            "|       Datsun 280-ZX|   80| Japan|\n",
            "|       Mazda RX-7 GS|   80| Japan|\n",
            "|        Honda Accord|   80| Japan|\n",
            "+--------------------+-----+------+\n",
            "\n"
          ]
        }
      ]
    },
    {
      "cell_type": "code",
      "source": [],
      "metadata": {
        "id": "slyOkC-U8lfm"
      },
      "execution_count": null,
      "outputs": []
    }
  ]
}